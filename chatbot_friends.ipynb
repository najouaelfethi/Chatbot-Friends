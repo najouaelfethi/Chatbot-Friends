{
  "nbformat": 4,
  "nbformat_minor": 0,
  "metadata": {
    "colab": {
      "provenance": [],
      "authorship_tag": "ABX9TyM4V+jIjizL3E3/KvMM3byq",
      "include_colab_link": true
    },
    "kernelspec": {
      "name": "python3",
      "display_name": "Python 3"
    },
    "language_info": {
      "name": "python"
    }
  },
  "cells": [
    {
      "cell_type": "markdown",
      "metadata": {
        "id": "view-in-github",
        "colab_type": "text"
      },
      "source": [
        "<a href=\"https://colab.research.google.com/github/najouaelfethi/Chatbot-Friends/blob/main/chatbot_friends.ipynb\" target=\"_parent\"><img src=\"https://colab.research.google.com/assets/colab-badge.svg\" alt=\"Open In Colab\"/></a>"
      ]
    },
    {
      "cell_type": "markdown",
      "source": [
        "Importation des bibliotheques"
      ],
      "metadata": {
        "id": "SzpzDliX13iG"
      }
    },
    {
      "cell_type": "code",
      "execution_count": null,
      "metadata": {
        "id": "oUOS3_Vd0wmv",
        "colab": {
          "base_uri": "https://localhost:8080/"
        },
        "outputId": "f1bea863-ca7e-44d1-8708-f1b653cf7207"
      },
      "outputs": [
        {
          "output_type": "stream",
          "name": "stderr",
          "text": [
            "[nltk_data] Downloading package stopwords to /root/nltk_data...\n",
            "[nltk_data]   Package stopwords is already up-to-date!\n",
            "[nltk_data] Downloading package wordnet to /root/nltk_data...\n",
            "[nltk_data]   Package wordnet is already up-to-date!\n",
            "[nltk_data] Downloading package punkt to /root/nltk_data...\n",
            "[nltk_data]   Package punkt is already up-to-date!\n"
          ]
        },
        {
          "output_type": "execute_result",
          "data": {
            "text/plain": [
              "True"
            ]
          },
          "metadata": {},
          "execution_count": 105
        }
      ],
      "source": [
        "import numpy as np\n",
        "import pandas as pd\n",
        "import matplotlib.pyplot as plt\n",
        "import seaborn as sns\n",
        "from plotly.express import bar\n",
        "import string\n",
        "import nltk\n",
        "from nltk.corpus import stopwords\n",
        "from nltk.tokenize import word_tokenize\n",
        "from textblob import TextBlob\n",
        "from nltk.stem import PorterStemmer, WordNetLemmatizer\n",
        "\n",
        "\n",
        "\n",
        "nltk.download('stopwords')\n",
        "nltk.download('wordnet')\n",
        "nltk.download('punkt')\n"
      ]
    },
    {
      "cell_type": "code",
      "source": [
        "!pip install textblob\n"
      ],
      "metadata": {
        "colab": {
          "base_uri": "https://localhost:8080/"
        },
        "id": "KW7_j_IXI7uA",
        "outputId": "5389117b-82e9-49f4-ed17-6f04d43d6785"
      },
      "execution_count": null,
      "outputs": [
        {
          "output_type": "stream",
          "name": "stdout",
          "text": [
            "Requirement already satisfied: textblob in /usr/local/lib/python3.10/dist-packages (0.17.1)\n",
            "Requirement already satisfied: nltk>=3.1 in /usr/local/lib/python3.10/dist-packages (from textblob) (3.8.1)\n",
            "Requirement already satisfied: click in /usr/local/lib/python3.10/dist-packages (from nltk>=3.1->textblob) (8.1.7)\n",
            "Requirement already satisfied: joblib in /usr/local/lib/python3.10/dist-packages (from nltk>=3.1->textblob) (1.4.0)\n",
            "Requirement already satisfied: regex>=2021.8.3 in /usr/local/lib/python3.10/dist-packages (from nltk>=3.1->textblob) (2023.12.25)\n",
            "Requirement already satisfied: tqdm in /usr/local/lib/python3.10/dist-packages (from nltk>=3.1->textblob) (4.66.2)\n"
          ]
        }
      ]
    },
    {
      "cell_type": "code",
      "source": [
        "df = pd.read_csv(\"/dataset.csv\")\n",
        "data = df.copy()\n",
        "data.head()"
      ],
      "metadata": {
        "colab": {
          "base_uri": "https://localhost:8080/",
          "height": 206
        },
        "id": "6fF5LF9_1cFt",
        "outputId": "5c41e73b-85b6-48e5-f3fb-eaaaa82a6560"
      },
      "execution_count": null,
      "outputs": [
        {
          "output_type": "execute_result",
          "data": {
            "text/plain": [
              "                                                text           speaker  \\\n",
              "0  There's nothing to tell! He's just some guy I ...     Monica Geller   \n",
              "1  C'mon, you're going out with the guy! There's ...    Joey Tribbiani   \n",
              "2  All right Joey, be nice. So does he have a hum...     Chandler Bing   \n",
              "3                           Wait, does he eat chalk?     Phoebe Buffay   \n",
              "4                         (They all stare, bemused.)  Scene Directions   \n",
              "\n",
              "   season  episode  scene  utterance  \n",
              "0       1        1      1          1  \n",
              "1       1        1      1          2  \n",
              "2       1        1      1          3  \n",
              "3       1        1      1          4  \n",
              "4       1        1      1          5  "
            ],
            "text/html": [
              "\n",
              "  <div id=\"df-e703f1c6-4089-457b-8ef2-3824ab5d51d7\" class=\"colab-df-container\">\n",
              "    <div>\n",
              "<style scoped>\n",
              "    .dataframe tbody tr th:only-of-type {\n",
              "        vertical-align: middle;\n",
              "    }\n",
              "\n",
              "    .dataframe tbody tr th {\n",
              "        vertical-align: top;\n",
              "    }\n",
              "\n",
              "    .dataframe thead th {\n",
              "        text-align: right;\n",
              "    }\n",
              "</style>\n",
              "<table border=\"1\" class=\"dataframe\">\n",
              "  <thead>\n",
              "    <tr style=\"text-align: right;\">\n",
              "      <th></th>\n",
              "      <th>text</th>\n",
              "      <th>speaker</th>\n",
              "      <th>season</th>\n",
              "      <th>episode</th>\n",
              "      <th>scene</th>\n",
              "      <th>utterance</th>\n",
              "    </tr>\n",
              "  </thead>\n",
              "  <tbody>\n",
              "    <tr>\n",
              "      <th>0</th>\n",
              "      <td>There's nothing to tell! He's just some guy I ...</td>\n",
              "      <td>Monica Geller</td>\n",
              "      <td>1</td>\n",
              "      <td>1</td>\n",
              "      <td>1</td>\n",
              "      <td>1</td>\n",
              "    </tr>\n",
              "    <tr>\n",
              "      <th>1</th>\n",
              "      <td>C'mon, you're going out with the guy! There's ...</td>\n",
              "      <td>Joey Tribbiani</td>\n",
              "      <td>1</td>\n",
              "      <td>1</td>\n",
              "      <td>1</td>\n",
              "      <td>2</td>\n",
              "    </tr>\n",
              "    <tr>\n",
              "      <th>2</th>\n",
              "      <td>All right Joey, be nice. So does he have a hum...</td>\n",
              "      <td>Chandler Bing</td>\n",
              "      <td>1</td>\n",
              "      <td>1</td>\n",
              "      <td>1</td>\n",
              "      <td>3</td>\n",
              "    </tr>\n",
              "    <tr>\n",
              "      <th>3</th>\n",
              "      <td>Wait, does he eat chalk?</td>\n",
              "      <td>Phoebe Buffay</td>\n",
              "      <td>1</td>\n",
              "      <td>1</td>\n",
              "      <td>1</td>\n",
              "      <td>4</td>\n",
              "    </tr>\n",
              "    <tr>\n",
              "      <th>4</th>\n",
              "      <td>(They all stare, bemused.)</td>\n",
              "      <td>Scene Directions</td>\n",
              "      <td>1</td>\n",
              "      <td>1</td>\n",
              "      <td>1</td>\n",
              "      <td>5</td>\n",
              "    </tr>\n",
              "  </tbody>\n",
              "</table>\n",
              "</div>\n",
              "    <div class=\"colab-df-buttons\">\n",
              "\n",
              "  <div class=\"colab-df-container\">\n",
              "    <button class=\"colab-df-convert\" onclick=\"convertToInteractive('df-e703f1c6-4089-457b-8ef2-3824ab5d51d7')\"\n",
              "            title=\"Convert this dataframe to an interactive table.\"\n",
              "            style=\"display:none;\">\n",
              "\n",
              "  <svg xmlns=\"http://www.w3.org/2000/svg\" height=\"24px\" viewBox=\"0 -960 960 960\">\n",
              "    <path d=\"M120-120v-720h720v720H120Zm60-500h600v-160H180v160Zm220 220h160v-160H400v160Zm0 220h160v-160H400v160ZM180-400h160v-160H180v160Zm440 0h160v-160H620v160ZM180-180h160v-160H180v160Zm440 0h160v-160H620v160Z\"/>\n",
              "  </svg>\n",
              "    </button>\n",
              "\n",
              "  <style>\n",
              "    .colab-df-container {\n",
              "      display:flex;\n",
              "      gap: 12px;\n",
              "    }\n",
              "\n",
              "    .colab-df-convert {\n",
              "      background-color: #E8F0FE;\n",
              "      border: none;\n",
              "      border-radius: 50%;\n",
              "      cursor: pointer;\n",
              "      display: none;\n",
              "      fill: #1967D2;\n",
              "      height: 32px;\n",
              "      padding: 0 0 0 0;\n",
              "      width: 32px;\n",
              "    }\n",
              "\n",
              "    .colab-df-convert:hover {\n",
              "      background-color: #E2EBFA;\n",
              "      box-shadow: 0px 1px 2px rgba(60, 64, 67, 0.3), 0px 1px 3px 1px rgba(60, 64, 67, 0.15);\n",
              "      fill: #174EA6;\n",
              "    }\n",
              "\n",
              "    .colab-df-buttons div {\n",
              "      margin-bottom: 4px;\n",
              "    }\n",
              "\n",
              "    [theme=dark] .colab-df-convert {\n",
              "      background-color: #3B4455;\n",
              "      fill: #D2E3FC;\n",
              "    }\n",
              "\n",
              "    [theme=dark] .colab-df-convert:hover {\n",
              "      background-color: #434B5C;\n",
              "      box-shadow: 0px 1px 3px 1px rgba(0, 0, 0, 0.15);\n",
              "      filter: drop-shadow(0px 1px 2px rgba(0, 0, 0, 0.3));\n",
              "      fill: #FFFFFF;\n",
              "    }\n",
              "  </style>\n",
              "\n",
              "    <script>\n",
              "      const buttonEl =\n",
              "        document.querySelector('#df-e703f1c6-4089-457b-8ef2-3824ab5d51d7 button.colab-df-convert');\n",
              "      buttonEl.style.display =\n",
              "        google.colab.kernel.accessAllowed ? 'block' : 'none';\n",
              "\n",
              "      async function convertToInteractive(key) {\n",
              "        const element = document.querySelector('#df-e703f1c6-4089-457b-8ef2-3824ab5d51d7');\n",
              "        const dataTable =\n",
              "          await google.colab.kernel.invokeFunction('convertToInteractive',\n",
              "                                                    [key], {});\n",
              "        if (!dataTable) return;\n",
              "\n",
              "        const docLinkHtml = 'Like what you see? Visit the ' +\n",
              "          '<a target=\"_blank\" href=https://colab.research.google.com/notebooks/data_table.ipynb>data table notebook</a>'\n",
              "          + ' to learn more about interactive tables.';\n",
              "        element.innerHTML = '';\n",
              "        dataTable['output_type'] = 'display_data';\n",
              "        await google.colab.output.renderOutput(dataTable, element);\n",
              "        const docLink = document.createElement('div');\n",
              "        docLink.innerHTML = docLinkHtml;\n",
              "        element.appendChild(docLink);\n",
              "      }\n",
              "    </script>\n",
              "  </div>\n",
              "\n",
              "\n",
              "<div id=\"df-43ad1ef4-b930-4f66-b2c1-4310c5e5eb72\">\n",
              "  <button class=\"colab-df-quickchart\" onclick=\"quickchart('df-43ad1ef4-b930-4f66-b2c1-4310c5e5eb72')\"\n",
              "            title=\"Suggest charts\"\n",
              "            style=\"display:none;\">\n",
              "\n",
              "<svg xmlns=\"http://www.w3.org/2000/svg\" height=\"24px\"viewBox=\"0 0 24 24\"\n",
              "     width=\"24px\">\n",
              "    <g>\n",
              "        <path d=\"M19 3H5c-1.1 0-2 .9-2 2v14c0 1.1.9 2 2 2h14c1.1 0 2-.9 2-2V5c0-1.1-.9-2-2-2zM9 17H7v-7h2v7zm4 0h-2V7h2v10zm4 0h-2v-4h2v4z\"/>\n",
              "    </g>\n",
              "</svg>\n",
              "  </button>\n",
              "\n",
              "<style>\n",
              "  .colab-df-quickchart {\n",
              "      --bg-color: #E8F0FE;\n",
              "      --fill-color: #1967D2;\n",
              "      --hover-bg-color: #E2EBFA;\n",
              "      --hover-fill-color: #174EA6;\n",
              "      --disabled-fill-color: #AAA;\n",
              "      --disabled-bg-color: #DDD;\n",
              "  }\n",
              "\n",
              "  [theme=dark] .colab-df-quickchart {\n",
              "      --bg-color: #3B4455;\n",
              "      --fill-color: #D2E3FC;\n",
              "      --hover-bg-color: #434B5C;\n",
              "      --hover-fill-color: #FFFFFF;\n",
              "      --disabled-bg-color: #3B4455;\n",
              "      --disabled-fill-color: #666;\n",
              "  }\n",
              "\n",
              "  .colab-df-quickchart {\n",
              "    background-color: var(--bg-color);\n",
              "    border: none;\n",
              "    border-radius: 50%;\n",
              "    cursor: pointer;\n",
              "    display: none;\n",
              "    fill: var(--fill-color);\n",
              "    height: 32px;\n",
              "    padding: 0;\n",
              "    width: 32px;\n",
              "  }\n",
              "\n",
              "  .colab-df-quickchart:hover {\n",
              "    background-color: var(--hover-bg-color);\n",
              "    box-shadow: 0 1px 2px rgba(60, 64, 67, 0.3), 0 1px 3px 1px rgba(60, 64, 67, 0.15);\n",
              "    fill: var(--button-hover-fill-color);\n",
              "  }\n",
              "\n",
              "  .colab-df-quickchart-complete:disabled,\n",
              "  .colab-df-quickchart-complete:disabled:hover {\n",
              "    background-color: var(--disabled-bg-color);\n",
              "    fill: var(--disabled-fill-color);\n",
              "    box-shadow: none;\n",
              "  }\n",
              "\n",
              "  .colab-df-spinner {\n",
              "    border: 2px solid var(--fill-color);\n",
              "    border-color: transparent;\n",
              "    border-bottom-color: var(--fill-color);\n",
              "    animation:\n",
              "      spin 1s steps(1) infinite;\n",
              "  }\n",
              "\n",
              "  @keyframes spin {\n",
              "    0% {\n",
              "      border-color: transparent;\n",
              "      border-bottom-color: var(--fill-color);\n",
              "      border-left-color: var(--fill-color);\n",
              "    }\n",
              "    20% {\n",
              "      border-color: transparent;\n",
              "      border-left-color: var(--fill-color);\n",
              "      border-top-color: var(--fill-color);\n",
              "    }\n",
              "    30% {\n",
              "      border-color: transparent;\n",
              "      border-left-color: var(--fill-color);\n",
              "      border-top-color: var(--fill-color);\n",
              "      border-right-color: var(--fill-color);\n",
              "    }\n",
              "    40% {\n",
              "      border-color: transparent;\n",
              "      border-right-color: var(--fill-color);\n",
              "      border-top-color: var(--fill-color);\n",
              "    }\n",
              "    60% {\n",
              "      border-color: transparent;\n",
              "      border-right-color: var(--fill-color);\n",
              "    }\n",
              "    80% {\n",
              "      border-color: transparent;\n",
              "      border-right-color: var(--fill-color);\n",
              "      border-bottom-color: var(--fill-color);\n",
              "    }\n",
              "    90% {\n",
              "      border-color: transparent;\n",
              "      border-bottom-color: var(--fill-color);\n",
              "    }\n",
              "  }\n",
              "</style>\n",
              "\n",
              "  <script>\n",
              "    async function quickchart(key) {\n",
              "      const quickchartButtonEl =\n",
              "        document.querySelector('#' + key + ' button');\n",
              "      quickchartButtonEl.disabled = true;  // To prevent multiple clicks.\n",
              "      quickchartButtonEl.classList.add('colab-df-spinner');\n",
              "      try {\n",
              "        const charts = await google.colab.kernel.invokeFunction(\n",
              "            'suggestCharts', [key], {});\n",
              "      } catch (error) {\n",
              "        console.error('Error during call to suggestCharts:', error);\n",
              "      }\n",
              "      quickchartButtonEl.classList.remove('colab-df-spinner');\n",
              "      quickchartButtonEl.classList.add('colab-df-quickchart-complete');\n",
              "    }\n",
              "    (() => {\n",
              "      let quickchartButtonEl =\n",
              "        document.querySelector('#df-43ad1ef4-b930-4f66-b2c1-4310c5e5eb72 button');\n",
              "      quickchartButtonEl.style.display =\n",
              "        google.colab.kernel.accessAllowed ? 'block' : 'none';\n",
              "    })();\n",
              "  </script>\n",
              "</div>\n",
              "\n",
              "    </div>\n",
              "  </div>\n"
            ],
            "application/vnd.google.colaboratory.intrinsic+json": {
              "type": "dataframe",
              "variable_name": "data",
              "summary": "{\n  \"name\": \"data\",\n  \"rows\": 67373,\n  \"fields\": [\n    {\n      \"column\": \"text\",\n      \"properties\": {\n        \"dtype\": \"string\",\n        \"num_unique_values\": 56920,\n        \"samples\": [\n          \"Yeah, about 300 guys I went to high school with. Yeah, thanks.\",\n          \"How weird is that? Y'know? You're moving in with me and have the one thing I don't have. It's like uh, in a way you-you complete me kitchen.\",\n          \"Howard's the handy man!\"\n        ],\n        \"semantic_type\": \"\",\n        \"description\": \"\"\n      }\n    },\n    {\n      \"column\": \"speaker\",\n      \"properties\": {\n        \"dtype\": \"category\",\n        \"num_unique_values\": 699,\n        \"samples\": [\n          \"Friend\",\n          \"The Second Guest\",\n          \"A Drunken Gambler\"\n        ],\n        \"semantic_type\": \"\",\n        \"description\": \"\"\n      }\n    },\n    {\n      \"column\": \"season\",\n      \"properties\": {\n        \"dtype\": \"number\",\n        \"std\": 2,\n        \"min\": 1,\n        \"max\": 10,\n        \"num_unique_values\": 10,\n        \"samples\": [\n          9,\n          2,\n          6\n        ],\n        \"semantic_type\": \"\",\n        \"description\": \"\"\n      }\n    },\n    {\n      \"column\": \"episode\",\n      \"properties\": {\n        \"dtype\": \"number\",\n        \"std\": 6,\n        \"min\": 1,\n        \"max\": 25,\n        \"num_unique_values\": 25,\n        \"samples\": [\n          9,\n          17,\n          1\n        ],\n        \"semantic_type\": \"\",\n        \"description\": \"\"\n      }\n    },\n    {\n      \"column\": \"scene\",\n      \"properties\": {\n        \"dtype\": \"number\",\n        \"std\": 4,\n        \"min\": 1,\n        \"max\": 29,\n        \"num_unique_values\": 29,\n        \"samples\": [\n          28,\n          17,\n          13\n        ],\n        \"semantic_type\": \"\",\n        \"description\": \"\"\n      }\n    },\n    {\n      \"column\": \"utterance\",\n      \"properties\": {\n        \"dtype\": \"number\",\n        \"std\": 21,\n        \"min\": 0,\n        \"max\": 255,\n        \"num_unique_values\": 256,\n        \"samples\": [\n          228,\n          7,\n          80\n        ],\n        \"semantic_type\": \"\",\n        \"description\": \"\"\n      }\n    }\n  ]\n}"
            }
          },
          "metadata": {},
          "execution_count": 6
        }
      ]
    },
    {
      "cell_type": "code",
      "source": [
        "data.tail()"
      ],
      "metadata": {
        "colab": {
          "base_uri": "https://localhost:8080/",
          "height": 206
        },
        "id": "c9OZDjgq3ziM",
        "outputId": "c82b9081-c3c4-45e0-afa3-9475197ed898"
      },
      "execution_count": null,
      "outputs": [
        {
          "output_type": "execute_result",
          "data": {
            "text/plain": [
              "                                                    text        speaker  \\\n",
              "67368                            Oh, it's gonna be okay.  Chandler Bing   \n",
              "67369  Do you guys have to go to the new house right ...   Rachel Green   \n",
              "67370                                  We got some time.  Monica Geller   \n",
              "67371                   Okay, should we get some coffee?   Rachel Green   \n",
              "67372                                       Sure. Where?  Chandler Bing   \n",
              "\n",
              "       season  episode  scene  utterance  \n",
              "67368      10       18     11         17  \n",
              "67369      10       18     11         18  \n",
              "67370      10       18     11         19  \n",
              "67371      10       18     11         20  \n",
              "67372      10       18     11         21  "
            ],
            "text/html": [
              "\n",
              "  <div id=\"df-7839463f-1f5d-4a72-8a47-85f8e8cd23ee\" class=\"colab-df-container\">\n",
              "    <div>\n",
              "<style scoped>\n",
              "    .dataframe tbody tr th:only-of-type {\n",
              "        vertical-align: middle;\n",
              "    }\n",
              "\n",
              "    .dataframe tbody tr th {\n",
              "        vertical-align: top;\n",
              "    }\n",
              "\n",
              "    .dataframe thead th {\n",
              "        text-align: right;\n",
              "    }\n",
              "</style>\n",
              "<table border=\"1\" class=\"dataframe\">\n",
              "  <thead>\n",
              "    <tr style=\"text-align: right;\">\n",
              "      <th></th>\n",
              "      <th>text</th>\n",
              "      <th>speaker</th>\n",
              "      <th>season</th>\n",
              "      <th>episode</th>\n",
              "      <th>scene</th>\n",
              "      <th>utterance</th>\n",
              "    </tr>\n",
              "  </thead>\n",
              "  <tbody>\n",
              "    <tr>\n",
              "      <th>67368</th>\n",
              "      <td>Oh, it's gonna be okay.</td>\n",
              "      <td>Chandler Bing</td>\n",
              "      <td>10</td>\n",
              "      <td>18</td>\n",
              "      <td>11</td>\n",
              "      <td>17</td>\n",
              "    </tr>\n",
              "    <tr>\n",
              "      <th>67369</th>\n",
              "      <td>Do you guys have to go to the new house right ...</td>\n",
              "      <td>Rachel Green</td>\n",
              "      <td>10</td>\n",
              "      <td>18</td>\n",
              "      <td>11</td>\n",
              "      <td>18</td>\n",
              "    </tr>\n",
              "    <tr>\n",
              "      <th>67370</th>\n",
              "      <td>We got some time.</td>\n",
              "      <td>Monica Geller</td>\n",
              "      <td>10</td>\n",
              "      <td>18</td>\n",
              "      <td>11</td>\n",
              "      <td>19</td>\n",
              "    </tr>\n",
              "    <tr>\n",
              "      <th>67371</th>\n",
              "      <td>Okay, should we get some coffee?</td>\n",
              "      <td>Rachel Green</td>\n",
              "      <td>10</td>\n",
              "      <td>18</td>\n",
              "      <td>11</td>\n",
              "      <td>20</td>\n",
              "    </tr>\n",
              "    <tr>\n",
              "      <th>67372</th>\n",
              "      <td>Sure. Where?</td>\n",
              "      <td>Chandler Bing</td>\n",
              "      <td>10</td>\n",
              "      <td>18</td>\n",
              "      <td>11</td>\n",
              "      <td>21</td>\n",
              "    </tr>\n",
              "  </tbody>\n",
              "</table>\n",
              "</div>\n",
              "    <div class=\"colab-df-buttons\">\n",
              "\n",
              "  <div class=\"colab-df-container\">\n",
              "    <button class=\"colab-df-convert\" onclick=\"convertToInteractive('df-7839463f-1f5d-4a72-8a47-85f8e8cd23ee')\"\n",
              "            title=\"Convert this dataframe to an interactive table.\"\n",
              "            style=\"display:none;\">\n",
              "\n",
              "  <svg xmlns=\"http://www.w3.org/2000/svg\" height=\"24px\" viewBox=\"0 -960 960 960\">\n",
              "    <path d=\"M120-120v-720h720v720H120Zm60-500h600v-160H180v160Zm220 220h160v-160H400v160Zm0 220h160v-160H400v160ZM180-400h160v-160H180v160Zm440 0h160v-160H620v160ZM180-180h160v-160H180v160Zm440 0h160v-160H620v160Z\"/>\n",
              "  </svg>\n",
              "    </button>\n",
              "\n",
              "  <style>\n",
              "    .colab-df-container {\n",
              "      display:flex;\n",
              "      gap: 12px;\n",
              "    }\n",
              "\n",
              "    .colab-df-convert {\n",
              "      background-color: #E8F0FE;\n",
              "      border: none;\n",
              "      border-radius: 50%;\n",
              "      cursor: pointer;\n",
              "      display: none;\n",
              "      fill: #1967D2;\n",
              "      height: 32px;\n",
              "      padding: 0 0 0 0;\n",
              "      width: 32px;\n",
              "    }\n",
              "\n",
              "    .colab-df-convert:hover {\n",
              "      background-color: #E2EBFA;\n",
              "      box-shadow: 0px 1px 2px rgba(60, 64, 67, 0.3), 0px 1px 3px 1px rgba(60, 64, 67, 0.15);\n",
              "      fill: #174EA6;\n",
              "    }\n",
              "\n",
              "    .colab-df-buttons div {\n",
              "      margin-bottom: 4px;\n",
              "    }\n",
              "\n",
              "    [theme=dark] .colab-df-convert {\n",
              "      background-color: #3B4455;\n",
              "      fill: #D2E3FC;\n",
              "    }\n",
              "\n",
              "    [theme=dark] .colab-df-convert:hover {\n",
              "      background-color: #434B5C;\n",
              "      box-shadow: 0px 1px 3px 1px rgba(0, 0, 0, 0.15);\n",
              "      filter: drop-shadow(0px 1px 2px rgba(0, 0, 0, 0.3));\n",
              "      fill: #FFFFFF;\n",
              "    }\n",
              "  </style>\n",
              "\n",
              "    <script>\n",
              "      const buttonEl =\n",
              "        document.querySelector('#df-7839463f-1f5d-4a72-8a47-85f8e8cd23ee button.colab-df-convert');\n",
              "      buttonEl.style.display =\n",
              "        google.colab.kernel.accessAllowed ? 'block' : 'none';\n",
              "\n",
              "      async function convertToInteractive(key) {\n",
              "        const element = document.querySelector('#df-7839463f-1f5d-4a72-8a47-85f8e8cd23ee');\n",
              "        const dataTable =\n",
              "          await google.colab.kernel.invokeFunction('convertToInteractive',\n",
              "                                                    [key], {});\n",
              "        if (!dataTable) return;\n",
              "\n",
              "        const docLinkHtml = 'Like what you see? Visit the ' +\n",
              "          '<a target=\"_blank\" href=https://colab.research.google.com/notebooks/data_table.ipynb>data table notebook</a>'\n",
              "          + ' to learn more about interactive tables.';\n",
              "        element.innerHTML = '';\n",
              "        dataTable['output_type'] = 'display_data';\n",
              "        await google.colab.output.renderOutput(dataTable, element);\n",
              "        const docLink = document.createElement('div');\n",
              "        docLink.innerHTML = docLinkHtml;\n",
              "        element.appendChild(docLink);\n",
              "      }\n",
              "    </script>\n",
              "  </div>\n",
              "\n",
              "\n",
              "<div id=\"df-dd4afcce-130e-4812-91b5-95d2d87d5570\">\n",
              "  <button class=\"colab-df-quickchart\" onclick=\"quickchart('df-dd4afcce-130e-4812-91b5-95d2d87d5570')\"\n",
              "            title=\"Suggest charts\"\n",
              "            style=\"display:none;\">\n",
              "\n",
              "<svg xmlns=\"http://www.w3.org/2000/svg\" height=\"24px\"viewBox=\"0 0 24 24\"\n",
              "     width=\"24px\">\n",
              "    <g>\n",
              "        <path d=\"M19 3H5c-1.1 0-2 .9-2 2v14c0 1.1.9 2 2 2h14c1.1 0 2-.9 2-2V5c0-1.1-.9-2-2-2zM9 17H7v-7h2v7zm4 0h-2V7h2v10zm4 0h-2v-4h2v4z\"/>\n",
              "    </g>\n",
              "</svg>\n",
              "  </button>\n",
              "\n",
              "<style>\n",
              "  .colab-df-quickchart {\n",
              "      --bg-color: #E8F0FE;\n",
              "      --fill-color: #1967D2;\n",
              "      --hover-bg-color: #E2EBFA;\n",
              "      --hover-fill-color: #174EA6;\n",
              "      --disabled-fill-color: #AAA;\n",
              "      --disabled-bg-color: #DDD;\n",
              "  }\n",
              "\n",
              "  [theme=dark] .colab-df-quickchart {\n",
              "      --bg-color: #3B4455;\n",
              "      --fill-color: #D2E3FC;\n",
              "      --hover-bg-color: #434B5C;\n",
              "      --hover-fill-color: #FFFFFF;\n",
              "      --disabled-bg-color: #3B4455;\n",
              "      --disabled-fill-color: #666;\n",
              "  }\n",
              "\n",
              "  .colab-df-quickchart {\n",
              "    background-color: var(--bg-color);\n",
              "    border: none;\n",
              "    border-radius: 50%;\n",
              "    cursor: pointer;\n",
              "    display: none;\n",
              "    fill: var(--fill-color);\n",
              "    height: 32px;\n",
              "    padding: 0;\n",
              "    width: 32px;\n",
              "  }\n",
              "\n",
              "  .colab-df-quickchart:hover {\n",
              "    background-color: var(--hover-bg-color);\n",
              "    box-shadow: 0 1px 2px rgba(60, 64, 67, 0.3), 0 1px 3px 1px rgba(60, 64, 67, 0.15);\n",
              "    fill: var(--button-hover-fill-color);\n",
              "  }\n",
              "\n",
              "  .colab-df-quickchart-complete:disabled,\n",
              "  .colab-df-quickchart-complete:disabled:hover {\n",
              "    background-color: var(--disabled-bg-color);\n",
              "    fill: var(--disabled-fill-color);\n",
              "    box-shadow: none;\n",
              "  }\n",
              "\n",
              "  .colab-df-spinner {\n",
              "    border: 2px solid var(--fill-color);\n",
              "    border-color: transparent;\n",
              "    border-bottom-color: var(--fill-color);\n",
              "    animation:\n",
              "      spin 1s steps(1) infinite;\n",
              "  }\n",
              "\n",
              "  @keyframes spin {\n",
              "    0% {\n",
              "      border-color: transparent;\n",
              "      border-bottom-color: var(--fill-color);\n",
              "      border-left-color: var(--fill-color);\n",
              "    }\n",
              "    20% {\n",
              "      border-color: transparent;\n",
              "      border-left-color: var(--fill-color);\n",
              "      border-top-color: var(--fill-color);\n",
              "    }\n",
              "    30% {\n",
              "      border-color: transparent;\n",
              "      border-left-color: var(--fill-color);\n",
              "      border-top-color: var(--fill-color);\n",
              "      border-right-color: var(--fill-color);\n",
              "    }\n",
              "    40% {\n",
              "      border-color: transparent;\n",
              "      border-right-color: var(--fill-color);\n",
              "      border-top-color: var(--fill-color);\n",
              "    }\n",
              "    60% {\n",
              "      border-color: transparent;\n",
              "      border-right-color: var(--fill-color);\n",
              "    }\n",
              "    80% {\n",
              "      border-color: transparent;\n",
              "      border-right-color: var(--fill-color);\n",
              "      border-bottom-color: var(--fill-color);\n",
              "    }\n",
              "    90% {\n",
              "      border-color: transparent;\n",
              "      border-bottom-color: var(--fill-color);\n",
              "    }\n",
              "  }\n",
              "</style>\n",
              "\n",
              "  <script>\n",
              "    async function quickchart(key) {\n",
              "      const quickchartButtonEl =\n",
              "        document.querySelector('#' + key + ' button');\n",
              "      quickchartButtonEl.disabled = true;  // To prevent multiple clicks.\n",
              "      quickchartButtonEl.classList.add('colab-df-spinner');\n",
              "      try {\n",
              "        const charts = await google.colab.kernel.invokeFunction(\n",
              "            'suggestCharts', [key], {});\n",
              "      } catch (error) {\n",
              "        console.error('Error during call to suggestCharts:', error);\n",
              "      }\n",
              "      quickchartButtonEl.classList.remove('colab-df-spinner');\n",
              "      quickchartButtonEl.classList.add('colab-df-quickchart-complete');\n",
              "    }\n",
              "    (() => {\n",
              "      let quickchartButtonEl =\n",
              "        document.querySelector('#df-dd4afcce-130e-4812-91b5-95d2d87d5570 button');\n",
              "      quickchartButtonEl.style.display =\n",
              "        google.colab.kernel.accessAllowed ? 'block' : 'none';\n",
              "    })();\n",
              "  </script>\n",
              "</div>\n",
              "\n",
              "    </div>\n",
              "  </div>\n"
            ],
            "application/vnd.google.colaboratory.intrinsic+json": {
              "type": "dataframe",
              "summary": "{\n  \"name\": \"data\",\n  \"rows\": 5,\n  \"fields\": [\n    {\n      \"column\": \"text\",\n      \"properties\": {\n        \"dtype\": \"string\",\n        \"num_unique_values\": 5,\n        \"samples\": [\n          \"Do you guys have to go to the new house right away, or do you have some time?\",\n          \"Sure. Where?\",\n          \"We got some time.\"\n        ],\n        \"semantic_type\": \"\",\n        \"description\": \"\"\n      }\n    },\n    {\n      \"column\": \"speaker\",\n      \"properties\": {\n        \"dtype\": \"string\",\n        \"num_unique_values\": 3,\n        \"samples\": [\n          \"Chandler Bing\",\n          \"Rachel Green\",\n          \"Monica Geller\"\n        ],\n        \"semantic_type\": \"\",\n        \"description\": \"\"\n      }\n    },\n    {\n      \"column\": \"season\",\n      \"properties\": {\n        \"dtype\": \"number\",\n        \"std\": 0,\n        \"min\": 10,\n        \"max\": 10,\n        \"num_unique_values\": 1,\n        \"samples\": [\n          10\n        ],\n        \"semantic_type\": \"\",\n        \"description\": \"\"\n      }\n    },\n    {\n      \"column\": \"episode\",\n      \"properties\": {\n        \"dtype\": \"number\",\n        \"std\": 0,\n        \"min\": 18,\n        \"max\": 18,\n        \"num_unique_values\": 1,\n        \"samples\": [\n          18\n        ],\n        \"semantic_type\": \"\",\n        \"description\": \"\"\n      }\n    },\n    {\n      \"column\": \"scene\",\n      \"properties\": {\n        \"dtype\": \"number\",\n        \"std\": 0,\n        \"min\": 11,\n        \"max\": 11,\n        \"num_unique_values\": 1,\n        \"samples\": [\n          11\n        ],\n        \"semantic_type\": \"\",\n        \"description\": \"\"\n      }\n    },\n    {\n      \"column\": \"utterance\",\n      \"properties\": {\n        \"dtype\": \"number\",\n        \"std\": 1,\n        \"min\": 17,\n        \"max\": 21,\n        \"num_unique_values\": 5,\n        \"samples\": [\n          18\n        ],\n        \"semantic_type\": \"\",\n        \"description\": \"\"\n      }\n    }\n  ]\n}"
            }
          },
          "metadata": {},
          "execution_count": 7
        }
      ]
    },
    {
      "cell_type": "markdown",
      "source": [
        "**Preparation des donnees**"
      ],
      "metadata": {
        "id": "fGCu6yVT251e"
      }
    },
    {
      "cell_type": "markdown",
      "source": [
        "**1. Analyse Exploratoire des donnees**"
      ],
      "metadata": {
        "id": "AifBeuUC3C6l"
      }
    },
    {
      "cell_type": "markdown",
      "source": [
        "1.1 Analyse de forme"
      ],
      "metadata": {
        "id": "vA4cWklz7X7r"
      }
    },
    {
      "cell_type": "code",
      "source": [
        "data.info()"
      ],
      "metadata": {
        "colab": {
          "base_uri": "https://localhost:8080/"
        },
        "id": "0Ub_2t2bRR_c",
        "outputId": "5173ee04-bde7-420b-ceb0-b91e430b8abd"
      },
      "execution_count": null,
      "outputs": [
        {
          "output_type": "stream",
          "name": "stdout",
          "text": [
            "<class 'pandas.core.frame.DataFrame'>\n",
            "RangeIndex: 67373 entries, 0 to 67372\n",
            "Data columns (total 8 columns):\n",
            " #   Column       Non-Null Count  Dtype  \n",
            "---  ------       --------------  -----  \n",
            " 0   text         67373 non-null  object \n",
            " 1   speaker      67097 non-null  object \n",
            " 2   season       67373 non-null  int64  \n",
            " 3   episode      67373 non-null  int64  \n",
            " 4   scene        67373 non-null  int64  \n",
            " 5   utterance    67373 non-null  int64  \n",
            " 6   len_text     67373 non-null  int64  \n",
            " 7   len_speaker  67097 non-null  float64\n",
            "dtypes: float64(1), int64(5), object(2)\n",
            "memory usage: 4.1+ MB\n"
          ]
        }
      ]
    },
    {
      "cell_type": "code",
      "source": [
        "#Nombre de lignes et de colonnes\n",
        "num_rows = data.shape[0]\n",
        "num_cols = data.shape[1]\n",
        "print(\"Nombre de lignes:\",num_rows)\n",
        "print(\"Nombre de colonnes:\",num_cols)"
      ],
      "metadata": {
        "colab": {
          "base_uri": "https://localhost:8080/"
        },
        "id": "cg6Ff-4K9xB4",
        "outputId": "63239036-3310-4e0a-eda4-0f07ccd80eeb"
      },
      "execution_count": null,
      "outputs": [
        {
          "output_type": "stream",
          "name": "stdout",
          "text": [
            "Nombre de lignes: 67373\n",
            "Nombre de colonnes: 6\n"
          ]
        }
      ]
    },
    {
      "cell_type": "code",
      "source": [
        "#Type de donnes\n",
        "data.dtypes"
      ],
      "metadata": {
        "colab": {
          "base_uri": "https://localhost:8080/"
        },
        "id": "QOuf37cW-FFf",
        "outputId": "ea1aa0f7-0b2f-4beb-f46c-3216017c9355"
      },
      "execution_count": null,
      "outputs": [
        {
          "output_type": "execute_result",
          "data": {
            "text/plain": [
              "text         object\n",
              "speaker      object\n",
              "season        int64\n",
              "episode       int64\n",
              "scene         int64\n",
              "utterance     int64\n",
              "dtype: object"
            ]
          },
          "metadata": {},
          "execution_count": 26
        }
      ]
    },
    {
      "cell_type": "code",
      "source": [
        "#statistics\n",
        "data.describe()"
      ],
      "metadata": {
        "colab": {
          "base_uri": "https://localhost:8080/",
          "height": 300
        },
        "id": "tjl3zcmq-tV6",
        "outputId": "568aed37-6ea7-415a-da6f-4ed2c3bb7cef"
      },
      "execution_count": null,
      "outputs": [
        {
          "output_type": "execute_result",
          "data": {
            "text/plain": [
              "             season       episode         scene     utterance\n",
              "count  67373.000000  67373.000000  67373.000000  67373.000000\n",
              "mean       5.438069     12.608241      6.858831     18.079557\n",
              "std        2.788974      6.962668      4.285814     21.145387\n",
              "min        1.000000      1.000000      1.000000      0.000000\n",
              "25%        3.000000      7.000000      3.000000      6.000000\n",
              "50%        5.000000     13.000000      6.000000     12.000000\n",
              "75%        8.000000     19.000000     10.000000     22.000000\n",
              "max       10.000000     25.000000     29.000000    255.000000"
            ],
            "text/html": [
              "\n",
              "  <div id=\"df-3d4ab88e-af07-4723-bfbe-37c56295d852\" class=\"colab-df-container\">\n",
              "    <div>\n",
              "<style scoped>\n",
              "    .dataframe tbody tr th:only-of-type {\n",
              "        vertical-align: middle;\n",
              "    }\n",
              "\n",
              "    .dataframe tbody tr th {\n",
              "        vertical-align: top;\n",
              "    }\n",
              "\n",
              "    .dataframe thead th {\n",
              "        text-align: right;\n",
              "    }\n",
              "</style>\n",
              "<table border=\"1\" class=\"dataframe\">\n",
              "  <thead>\n",
              "    <tr style=\"text-align: right;\">\n",
              "      <th></th>\n",
              "      <th>season</th>\n",
              "      <th>episode</th>\n",
              "      <th>scene</th>\n",
              "      <th>utterance</th>\n",
              "    </tr>\n",
              "  </thead>\n",
              "  <tbody>\n",
              "    <tr>\n",
              "      <th>count</th>\n",
              "      <td>67373.000000</td>\n",
              "      <td>67373.000000</td>\n",
              "      <td>67373.000000</td>\n",
              "      <td>67373.000000</td>\n",
              "    </tr>\n",
              "    <tr>\n",
              "      <th>mean</th>\n",
              "      <td>5.438069</td>\n",
              "      <td>12.608241</td>\n",
              "      <td>6.858831</td>\n",
              "      <td>18.079557</td>\n",
              "    </tr>\n",
              "    <tr>\n",
              "      <th>std</th>\n",
              "      <td>2.788974</td>\n",
              "      <td>6.962668</td>\n",
              "      <td>4.285814</td>\n",
              "      <td>21.145387</td>\n",
              "    </tr>\n",
              "    <tr>\n",
              "      <th>min</th>\n",
              "      <td>1.000000</td>\n",
              "      <td>1.000000</td>\n",
              "      <td>1.000000</td>\n",
              "      <td>0.000000</td>\n",
              "    </tr>\n",
              "    <tr>\n",
              "      <th>25%</th>\n",
              "      <td>3.000000</td>\n",
              "      <td>7.000000</td>\n",
              "      <td>3.000000</td>\n",
              "      <td>6.000000</td>\n",
              "    </tr>\n",
              "    <tr>\n",
              "      <th>50%</th>\n",
              "      <td>5.000000</td>\n",
              "      <td>13.000000</td>\n",
              "      <td>6.000000</td>\n",
              "      <td>12.000000</td>\n",
              "    </tr>\n",
              "    <tr>\n",
              "      <th>75%</th>\n",
              "      <td>8.000000</td>\n",
              "      <td>19.000000</td>\n",
              "      <td>10.000000</td>\n",
              "      <td>22.000000</td>\n",
              "    </tr>\n",
              "    <tr>\n",
              "      <th>max</th>\n",
              "      <td>10.000000</td>\n",
              "      <td>25.000000</td>\n",
              "      <td>29.000000</td>\n",
              "      <td>255.000000</td>\n",
              "    </tr>\n",
              "  </tbody>\n",
              "</table>\n",
              "</div>\n",
              "    <div class=\"colab-df-buttons\">\n",
              "\n",
              "  <div class=\"colab-df-container\">\n",
              "    <button class=\"colab-df-convert\" onclick=\"convertToInteractive('df-3d4ab88e-af07-4723-bfbe-37c56295d852')\"\n",
              "            title=\"Convert this dataframe to an interactive table.\"\n",
              "            style=\"display:none;\">\n",
              "\n",
              "  <svg xmlns=\"http://www.w3.org/2000/svg\" height=\"24px\" viewBox=\"0 -960 960 960\">\n",
              "    <path d=\"M120-120v-720h720v720H120Zm60-500h600v-160H180v160Zm220 220h160v-160H400v160Zm0 220h160v-160H400v160ZM180-400h160v-160H180v160Zm440 0h160v-160H620v160ZM180-180h160v-160H180v160Zm440 0h160v-160H620v160Z\"/>\n",
              "  </svg>\n",
              "    </button>\n",
              "\n",
              "  <style>\n",
              "    .colab-df-container {\n",
              "      display:flex;\n",
              "      gap: 12px;\n",
              "    }\n",
              "\n",
              "    .colab-df-convert {\n",
              "      background-color: #E8F0FE;\n",
              "      border: none;\n",
              "      border-radius: 50%;\n",
              "      cursor: pointer;\n",
              "      display: none;\n",
              "      fill: #1967D2;\n",
              "      height: 32px;\n",
              "      padding: 0 0 0 0;\n",
              "      width: 32px;\n",
              "    }\n",
              "\n",
              "    .colab-df-convert:hover {\n",
              "      background-color: #E2EBFA;\n",
              "      box-shadow: 0px 1px 2px rgba(60, 64, 67, 0.3), 0px 1px 3px 1px rgba(60, 64, 67, 0.15);\n",
              "      fill: #174EA6;\n",
              "    }\n",
              "\n",
              "    .colab-df-buttons div {\n",
              "      margin-bottom: 4px;\n",
              "    }\n",
              "\n",
              "    [theme=dark] .colab-df-convert {\n",
              "      background-color: #3B4455;\n",
              "      fill: #D2E3FC;\n",
              "    }\n",
              "\n",
              "    [theme=dark] .colab-df-convert:hover {\n",
              "      background-color: #434B5C;\n",
              "      box-shadow: 0px 1px 3px 1px rgba(0, 0, 0, 0.15);\n",
              "      filter: drop-shadow(0px 1px 2px rgba(0, 0, 0, 0.3));\n",
              "      fill: #FFFFFF;\n",
              "    }\n",
              "  </style>\n",
              "\n",
              "    <script>\n",
              "      const buttonEl =\n",
              "        document.querySelector('#df-3d4ab88e-af07-4723-bfbe-37c56295d852 button.colab-df-convert');\n",
              "      buttonEl.style.display =\n",
              "        google.colab.kernel.accessAllowed ? 'block' : 'none';\n",
              "\n",
              "      async function convertToInteractive(key) {\n",
              "        const element = document.querySelector('#df-3d4ab88e-af07-4723-bfbe-37c56295d852');\n",
              "        const dataTable =\n",
              "          await google.colab.kernel.invokeFunction('convertToInteractive',\n",
              "                                                    [key], {});\n",
              "        if (!dataTable) return;\n",
              "\n",
              "        const docLinkHtml = 'Like what you see? Visit the ' +\n",
              "          '<a target=\"_blank\" href=https://colab.research.google.com/notebooks/data_table.ipynb>data table notebook</a>'\n",
              "          + ' to learn more about interactive tables.';\n",
              "        element.innerHTML = '';\n",
              "        dataTable['output_type'] = 'display_data';\n",
              "        await google.colab.output.renderOutput(dataTable, element);\n",
              "        const docLink = document.createElement('div');\n",
              "        docLink.innerHTML = docLinkHtml;\n",
              "        element.appendChild(docLink);\n",
              "      }\n",
              "    </script>\n",
              "  </div>\n",
              "\n",
              "\n",
              "<div id=\"df-9289a137-8bbe-41f0-b6de-b679d3f65143\">\n",
              "  <button class=\"colab-df-quickchart\" onclick=\"quickchart('df-9289a137-8bbe-41f0-b6de-b679d3f65143')\"\n",
              "            title=\"Suggest charts\"\n",
              "            style=\"display:none;\">\n",
              "\n",
              "<svg xmlns=\"http://www.w3.org/2000/svg\" height=\"24px\"viewBox=\"0 0 24 24\"\n",
              "     width=\"24px\">\n",
              "    <g>\n",
              "        <path d=\"M19 3H5c-1.1 0-2 .9-2 2v14c0 1.1.9 2 2 2h14c1.1 0 2-.9 2-2V5c0-1.1-.9-2-2-2zM9 17H7v-7h2v7zm4 0h-2V7h2v10zm4 0h-2v-4h2v4z\"/>\n",
              "    </g>\n",
              "</svg>\n",
              "  </button>\n",
              "\n",
              "<style>\n",
              "  .colab-df-quickchart {\n",
              "      --bg-color: #E8F0FE;\n",
              "      --fill-color: #1967D2;\n",
              "      --hover-bg-color: #E2EBFA;\n",
              "      --hover-fill-color: #174EA6;\n",
              "      --disabled-fill-color: #AAA;\n",
              "      --disabled-bg-color: #DDD;\n",
              "  }\n",
              "\n",
              "  [theme=dark] .colab-df-quickchart {\n",
              "      --bg-color: #3B4455;\n",
              "      --fill-color: #D2E3FC;\n",
              "      --hover-bg-color: #434B5C;\n",
              "      --hover-fill-color: #FFFFFF;\n",
              "      --disabled-bg-color: #3B4455;\n",
              "      --disabled-fill-color: #666;\n",
              "  }\n",
              "\n",
              "  .colab-df-quickchart {\n",
              "    background-color: var(--bg-color);\n",
              "    border: none;\n",
              "    border-radius: 50%;\n",
              "    cursor: pointer;\n",
              "    display: none;\n",
              "    fill: var(--fill-color);\n",
              "    height: 32px;\n",
              "    padding: 0;\n",
              "    width: 32px;\n",
              "  }\n",
              "\n",
              "  .colab-df-quickchart:hover {\n",
              "    background-color: var(--hover-bg-color);\n",
              "    box-shadow: 0 1px 2px rgba(60, 64, 67, 0.3), 0 1px 3px 1px rgba(60, 64, 67, 0.15);\n",
              "    fill: var(--button-hover-fill-color);\n",
              "  }\n",
              "\n",
              "  .colab-df-quickchart-complete:disabled,\n",
              "  .colab-df-quickchart-complete:disabled:hover {\n",
              "    background-color: var(--disabled-bg-color);\n",
              "    fill: var(--disabled-fill-color);\n",
              "    box-shadow: none;\n",
              "  }\n",
              "\n",
              "  .colab-df-spinner {\n",
              "    border: 2px solid var(--fill-color);\n",
              "    border-color: transparent;\n",
              "    border-bottom-color: var(--fill-color);\n",
              "    animation:\n",
              "      spin 1s steps(1) infinite;\n",
              "  }\n",
              "\n",
              "  @keyframes spin {\n",
              "    0% {\n",
              "      border-color: transparent;\n",
              "      border-bottom-color: var(--fill-color);\n",
              "      border-left-color: var(--fill-color);\n",
              "    }\n",
              "    20% {\n",
              "      border-color: transparent;\n",
              "      border-left-color: var(--fill-color);\n",
              "      border-top-color: var(--fill-color);\n",
              "    }\n",
              "    30% {\n",
              "      border-color: transparent;\n",
              "      border-left-color: var(--fill-color);\n",
              "      border-top-color: var(--fill-color);\n",
              "      border-right-color: var(--fill-color);\n",
              "    }\n",
              "    40% {\n",
              "      border-color: transparent;\n",
              "      border-right-color: var(--fill-color);\n",
              "      border-top-color: var(--fill-color);\n",
              "    }\n",
              "    60% {\n",
              "      border-color: transparent;\n",
              "      border-right-color: var(--fill-color);\n",
              "    }\n",
              "    80% {\n",
              "      border-color: transparent;\n",
              "      border-right-color: var(--fill-color);\n",
              "      border-bottom-color: var(--fill-color);\n",
              "    }\n",
              "    90% {\n",
              "      border-color: transparent;\n",
              "      border-bottom-color: var(--fill-color);\n",
              "    }\n",
              "  }\n",
              "</style>\n",
              "\n",
              "  <script>\n",
              "    async function quickchart(key) {\n",
              "      const quickchartButtonEl =\n",
              "        document.querySelector('#' + key + ' button');\n",
              "      quickchartButtonEl.disabled = true;  // To prevent multiple clicks.\n",
              "      quickchartButtonEl.classList.add('colab-df-spinner');\n",
              "      try {\n",
              "        const charts = await google.colab.kernel.invokeFunction(\n",
              "            'suggestCharts', [key], {});\n",
              "      } catch (error) {\n",
              "        console.error('Error during call to suggestCharts:', error);\n",
              "      }\n",
              "      quickchartButtonEl.classList.remove('colab-df-spinner');\n",
              "      quickchartButtonEl.classList.add('colab-df-quickchart-complete');\n",
              "    }\n",
              "    (() => {\n",
              "      let quickchartButtonEl =\n",
              "        document.querySelector('#df-9289a137-8bbe-41f0-b6de-b679d3f65143 button');\n",
              "      quickchartButtonEl.style.display =\n",
              "        google.colab.kernel.accessAllowed ? 'block' : 'none';\n",
              "    })();\n",
              "  </script>\n",
              "</div>\n",
              "\n",
              "    </div>\n",
              "  </div>\n"
            ],
            "application/vnd.google.colaboratory.intrinsic+json": {
              "type": "dataframe",
              "summary": "{\n  \"name\": \"data\",\n  \"rows\": 8,\n  \"fields\": [\n    {\n      \"column\": \"season\",\n      \"properties\": {\n        \"dtype\": \"number\",\n        \"std\": 23818.173527243838,\n        \"min\": 1.0,\n        \"max\": 67373.0,\n        \"num_unique_values\": 8,\n        \"samples\": [\n          5.438068662520594,\n          5.0,\n          67373.0\n        ],\n        \"semantic_type\": \"\",\n        \"description\": \"\"\n      }\n    },\n    {\n      \"column\": \"episode\",\n      \"properties\": {\n        \"dtype\": \"number\",\n        \"std\": 23815.682280309516,\n        \"min\": 1.0,\n        \"max\": 67373.0,\n        \"num_unique_values\": 8,\n        \"samples\": [\n          12.608240689890609,\n          13.0,\n          67373.0\n        ],\n        \"semantic_type\": \"\",\n        \"description\": \"\"\n      }\n    },\n    {\n      \"column\": \"scene\",\n      \"properties\": {\n        \"dtype\": \"number\",\n        \"std\": 23816.916427590986,\n        \"min\": 1.0,\n        \"max\": 67373.0,\n        \"num_unique_values\": 8,\n        \"samples\": [\n          6.858830688851617,\n          6.0,\n          67373.0\n        ],\n        \"semantic_type\": \"\",\n        \"description\": \"\"\n      }\n    },\n    {\n      \"column\": \"utterance\",\n      \"properties\": {\n        \"dtype\": \"number\",\n        \"std\": 23803.223231019372,\n        \"min\": 0.0,\n        \"max\": 67373.0,\n        \"num_unique_values\": 8,\n        \"samples\": [\n          18.079557092603864,\n          12.0,\n          67373.0\n        ],\n        \"semantic_type\": \"\",\n        \"description\": \"\"\n      }\n    }\n  ]\n}"
            }
          },
          "metadata": {},
          "execution_count": 27
        }
      ]
    },
    {
      "cell_type": "code",
      "source": [
        "data.shape[1]"
      ],
      "metadata": {
        "colab": {
          "base_uri": "https://localhost:8080/"
        },
        "id": "nySW8rO7_-ln",
        "outputId": "6568cee4-ef7d-4d74-8ecd-6f35a644de29"
      },
      "execution_count": null,
      "outputs": [
        {
          "output_type": "execute_result",
          "data": {
            "text/plain": [
              "6"
            ]
          },
          "metadata": {},
          "execution_count": 31
        }
      ]
    },
    {
      "cell_type": "code",
      "source": [
        "#Calculation du pourcentage des valeurs manquantes\n",
        "missing_values = data.isnull().sum()\n",
        "plt.bar(missing_values.index,missing_values.values, color='Blue')\n",
        "plt.xlabel(\"Colonnes\")\n",
        "plt.ylabel(\"Nombre des valeurs manquantes\")\n",
        "plt.title(\"Visualisation des valeurs manquantes\")\n",
        "plt.show()"
      ],
      "metadata": {
        "colab": {
          "base_uri": "https://localhost:8080/",
          "height": 472
        },
        "id": "B8uGOX5N_LT0",
        "outputId": "8a00b4e8-7979-45b9-f336-8d9fdfe83258"
      },
      "execution_count": null,
      "outputs": [
        {
          "output_type": "display_data",
          "data": {
            "text/plain": [
              "<Figure size 640x480 with 1 Axes>"
            ],
            "image/png": "[encoded data removed]"
          },
          "metadata": {}
        }
      ]
    },
    {
      "cell_type": "markdown",
      "source": [
        "1.2 Analyse de fond"
      ],
      "metadata": {
        "id": "PKB9UVuL7bRs"
      }
    },
    {
      "cell_type": "markdown",
      "source": [
        "1.2.1 Analyse univarie"
      ],
      "metadata": {
        "id": "9I3tfQPQ81ng"
      }
    },
    {
      "cell_type": "code",
      "source": [
        "#Visualisation des variables\n",
        "#Pour les donnees numeriques\n",
        "numeric_cols = [\"season\",\"episode\",\"scene\",\"utterance\"]\n",
        "data[numeric_cols].hist(bins=20)\n",
        "plt.show()\n"
      ],
      "metadata": {
        "colab": {
          "base_uri": "https://localhost:8080/",
          "height": 452
        },
        "id": "RAtKc5cn-s46",
        "outputId": "66a2af32-d189-4f27-c606-0675d4afa318"
      },
      "execution_count": null,
      "outputs": [
        {
          "output_type": "display_data",
          "data": {
            "text/plain": [
              "<Figure size 640x480 with 4 Axes>"
            ],
            "image/png": "[encoded data removed]"
          },
          "metadata": {}
        }
      ]
    },
    {
      "cell_type": "code",
      "source": [
        "#Pour la colonne text\n",
        "data['len_text'] = data['text'].str.len()\n",
        "sns.displot(data['len_text'])\n",
        "plt.show()\n"
      ],
      "metadata": {
        "colab": {
          "base_uri": "https://localhost:8080/",
          "height": 506
        },
        "id": "sc_JMbjxOfWo",
        "outputId": "c3d6e2d1-c6a8-4f46-8098-1aba9aa8fed5"
      },
      "execution_count": null,
      "outputs": [
        {
          "output_type": "display_data",
          "data": {
            "text/plain": [
              "<Figure size 500x500 with 1 Axes>"
            ],
            "image/png": "[encoded data removed]"
          },
          "metadata": {}
        }
      ]
    },
    {
      "cell_type": "code",
      "source": [
        "#Pour la colonne speaker\n",
        "data['len_speaker'] = data['speaker'].str.len()\n",
        "sns.displot(data['len_speaker'])\n",
        "plt.show()\n"
      ],
      "metadata": {
        "colab": {
          "base_uri": "https://localhost:8080/",
          "height": 506
        },
        "id": "Y9t7GRmCPdOU",
        "outputId": "8811a5c7-87da-41ee-8647-70a13bc81af1"
      },
      "execution_count": null,
      "outputs": [
        {
          "output_type": "display_data",
          "data": {
            "text/plain": [
              "<Figure size 500x500 with 1 Axes>"
            ],
            "image/png": "[encoded data removed]"
          },
          "metadata": {}
        }
      ]
    },
    {
      "cell_type": "markdown",
      "source": [
        "1.2.2 Analyse bivarie"
      ],
      "metadata": {
        "id": "zObP91I69Iql"
      }
    },
    {
      "cell_type": "code",
      "source": [
        "#Pour les deux colonnes season et episode\n",
        "plt.scatter(data['season'], data['episode'])\n",
        "plt.xlabel('Season')\n",
        "plt.ylabel('Episode')\n",
        "plt.title(\"Nombre d'episode dans chaque saison\")\n",
        "plt.show()"
      ],
      "metadata": {
        "colab": {
          "base_uri": "https://localhost:8080/",
          "height": 472
        },
        "id": "KDqDkf1kIRQm",
        "outputId": "c7714c20-7e4b-406d-eb06-5ab56fe5bbaf"
      },
      "execution_count": null,
      "outputs": [
        {
          "output_type": "display_data",
          "data": {
            "text/plain": [
              "<Figure size 640x480 with 1 Axes>"
            ],
            "image/png": "[encoded data removed]"
          },
          "metadata": {}
        }
      ]
    },
    {
      "cell_type": "code",
      "source": [
        "#Nombre de speakers dans chaque season\n",
        "bar(data_frame=data[['season','speaker']].groupby(by=['season','speaker']).size().reset_index().rename({0:'count'}, axis=1), x='speaker',y='count',color='season')\n"
      ],
      "metadata": {
        "colab": {
          "base_uri": "https://localhost:8080/",
          "height": 542
        },
        "id": "d5fX3Wq63Awt",
        "outputId": "3a75dbde-6201-4a96-b856-d3b27b3daa4f"
      },
      "execution_count": null,
      "outputs": [
        {
          "output_type": "display_data",
          "data": {
            "text/html": [
              "<html>\n",
              "<head><meta charset=\"utf-8\" /></head>\n",
              "<body>\n",
              "    <div>            <script src=\"https://cdnjs.cloudflare.com/ajax/libs/mathjax/2.7.5/MathJax.js?config=TeX-AMS-MML_SVG\"></script><script type=\"text/javascript\">if (window.MathJax && window.MathJax.Hub && window.MathJax.Hub.Config) {window.MathJax.Hub.Config({SVG: {font: \"STIX-Web\"}});}</script>                <script type=\"text/javascript\">window.PlotlyConfig = {MathJaxConfig: 'local'};</script>\n",
              "        <script charset=\"utf-8\" src=\"https://cdn.plot.ly/plotly-2.24.1.min.js\"></script>                <div id=\"f87df135-b9b7-461a-9423-bf1b0668bfd3\" class=\"plotly-graph-div\" style=\"height:525px; width:100%;\"></div>            <script type=\"text/javascript\">                                    window.PLOTLYENV=window.PLOTLYENV || {};                                    if (document.getElementById(\"f87df135-b9b7-461a-9423-bf1b0668bfd3\")) {                    Plotly.newPlot(                        \"f87df135-b9b7-461a-9423-bf1b0668bfd3\",                        [{\"alignmentgroup\":\"True\",\"hovertemplate\":\"speaker=%{x}\\u003cbr\\u003ecount=%{y}\\u003cbr\\u003eseason=%{marker.color}\\u003cextra\\u003e\\u003c\\u002fextra\\u003e\",\"legendgroup\":\"\",\"marker\":{\"color\":[1,1,1,1,1,1,1,1,1,1,1,1,1,1,1,1,1,1,1,1,1,1,1,1,1,1,1,1,1,1,1,1,1,1,1,1,1,1,1,1,1,1,1,1,1,1,1,1,1,1,1,1,1,1,1,1,1,1,1,1,1,1,1,1,1,1,1,1,1,1,1,1,1,1,1,1,1,1,1,1,1,1,1,1,1,1,1,1,1,1,1,1,1,1,1,1,1,1,1,1,1,1,1,1,1,1,1,1,2,2,2,2,2,2,2,2,2,2,2,2,2,2,2,2,2,2,2,2,2,2,2,2,2,2,2,2,2,2,2,2,2,2,2,2,2,2,2,2,2,2,2,2,2,2,2,2,2,2,2,2,2,2,2,2,2,2,2,2,2,2,2,2,2,2,2,2,2,2,2,2,2,2,2,2,2,2,2,2,2,2,2,2,2,2,2,2,2,2,2,2,2,2,2,2,2,2,2,2,2,2,2,2,2,2,2,3,3,3,3,3,3,3,3,3,3,3,3,3,3,3,3,3,3,3,3,3,3,3,3,3,3,3,3,3,3,3,3,3,3,3,3,3,3,3,3,3,3,3,3,3,3,3,3,3,3,3,3,3,3,3,3,3,3,3,3,3,3,3,3,3,3,3,3,3,3,3,3,3,3,3,3,3,3,3,3,3,3,3,3,3,3,3,3,3,3,3,3,3,3,3,3,3,3,3,3,3,3,3,3,3,3,3,3,3,4,4,4,4,4,4,4,4,4,4,4,4,4,4,4,4,4,4,4,4,4,4,4,4,4,4,4,4,4,4,4,4,4,4,4,4,4,4,4,4,4,4,4,4,4,4,4,4,4,4,4,4,4,4,4,4,4,4,4,4,4,4,4,4,4,4,4,4,4,4,4,4,4,4,4,4,4,4,4,4,4,4,4,4,4,4,4,4,4,4,4,4,4,4,4,4,4,4,4,4,5,5,5,5,5,5,5,5,5,5,5,5,5,5,5,5,5,5,5,5,5,5,5,5,5,5,5,5,5,5,5,5,5,5,5,5,5,5,5,5,5,5,5,5,5,5,5,5,5,5,5,5,5,5,5,5,5,5,5,5,5,5,5,5,5,5,5,5,5,5,5,5,5,5,5,5,5,5,5,5,5,5,5,5,5,5,5,5,5,5,5,5,5,5,5,5,5,5,5,5,5,5,5,5,5,5,5,5,6,6,6,6,6,6,6,6,6,6,6,6,6,6,6,6,6,6,6,6,6,6,6,6,6,6,6,6,6,6,6,6,6,6,6,6,6,6,6,6,6,6,6,6,6,6,6,6,6,6,6,6,6,6,6,6,6,6,6,6,6,6,6,6,6,6,6,6,6,6,6,6,6,6,6,6,6,6,6,6,6,6,6,6,6,6,6,6,6,6,6,6,6,6,6,6,6,6,6,6,6,6,6,6,6,6,6,6,6,6,6,7,7,7,7,7,7,7,7,7,7,7,7,7,7,7,7,7,7,7,7,7,7,7,7,7,7,7,7,7,7,7,7,7,7,7,7,7,7,7,7,7,7,7,7,7,7,7,7,7,7,7,7,7,7,7,7,7,7,7,7,7,7,7,7,7,7,7,7,7,7,7,7,7,7,7,7,7,7,7,7,7,7,7,7,7,7,7,7,7,7,7,7,7,7,7,8,8,8,8,8,8,8,8,8,8,8,8,8,8,8,8,8,8,8,8,8,8,8,8,8,8,8,8,8,8,8,8,8,8,8,8,8,8,8,8,8,8,8,8,8,8,8,8,8,8,8,8,8,8,8,8,8,8,8,8,8,8,8,8,8,8,8,8,8,8,8,8,8,8,8,8,8,8,8,8,8,8,8,8,8,8,8,8,8,8,8,8,8,8,8,8,8,8,8,8,8,8,8,8,8,8,8,8,9,9,9,9,9,9,9,9,9,9,9,9,9,9,9,9,9,9,9,9,9,9,9,9,9,9,9,9,9,9,9,9,9,9,9,9,9,9,9,9,9,9,9,9,9,9,9,9,9,9,9,9,9,9,9,9,9,9,9,9,9,9,9,9,9,9,9,9,9,9,9,9,9,9,9,9,9,9,9,9,9,9,9,9,9,9,9,9,9,9,9,9,9,9,9,9,9,9,9,9,10,10,10,10,10,10,10,10,10,10,10,10,10,10,10,10,10,10,10,10,10,10,10,10,10,10,10,10,10,10,10,10,10,10,10,10,10,10,10,10,10,10,10,10,10,10,10,10,10,10,10,10,10,10,10,10,10,10,10,10,10,10,10,10,10,10,10,10,10,10,10,10,10,10,10,10,10,10,10],\"coloraxis\":\"coloraxis\",\"pattern\":{\"shape\":\"\"}},\"name\":\"\",\"offsetgroup\":\"\",\"orientation\":\"v\",\"showlegend\":false,\"textposition\":\"auto\",\"x\":[\"#ALL#\",\"Actor\",\"Alan\",\"Andrea\",\"Angela Delveccio\",\"Announcement\",\"Aunt Iris\",\"Aunt Lillian\",\"Aurora\",\"Barry Farber\",\"Bernice\",\"Bob\",\"Bobby Rush\",\"Both\",\"Carl (Rachel's date)\",\"Carol Willick\",\"Casting Director No. 1\",\"Casting Director No. 2\",\"Celia\",\"Chandler Bing\",\"Coma Guy\",\"Customer\",\"Danielle\",\"David\",\"Dick Clark\",\"Director\",\"Dr. Baldhara\",\"Dr. Franzblau\",\"Dr. Mitchell\",\"Dr. Oberman\",\"Dr. Rosen\",\"Ethan\",\"Fake Monica\",\"Fireman No. 1\",\"Fireman No. 2\",\"Fireman No. 3\",\"Flight Attendant\",\"Frank Buffay Jr.\",\"Franny\",\"Gerston\",\"Girl\",\"Gloria Tribbiani\",\"Guy\",\"Guys\",\"Helen\",\"Intercom\",\"Jamie\",\"Janice Litman Goralnik\",\"Janitor\",\"Jay Leno\",\"Jill Goodacre\",\"Joanne\",\"Joey Tribbiani\",\"Joey Tribbiani Sr.\",\"Judy Geller\",\"Julie\",\"Kid\",\"Kiki\",\"Kristin\",\"Leslie\",\"Lizzy\",\"Lorraine\",\"Lowell\",\"Luisa Gianetti\",\"Lydia\",\"Man\",\"Marsha\",\"Max\",\"Melanie\",\"Mindy Hunter\",\"Monica Geller\",\"Mr. Douglas\",\"Mr. Heckles\",\"Mrs. Tedlock\",\"Nina Bookbinder\",\"Nora Tyler Bing\",\"Nurse Sizemore\",\"Paolo\",\"Paul the Wine Guy\",\"Paula\",\"Petrie\",\"Phoebe Buffay\",\"Phoebe's Assistant\",\"Phoebe's Friends\",\"Pizza Guy\",\"Priest On Tv\",\"Rachel Green\",\"Receptionist\",\"Robbie\",\"Roger\",\"Ronni Rapalono\",\"Ross Geller\",\"Sandy\",\"Santos\",\"Scene Directions\",\"Shelley\",\"Soothing Male Voice\",\"Steve (drug addict)\",\"Susan Bunch\",\"Teacher\",\"Terry\",\"The Guys\",\"The Whole Party\",\"Ursula\",\"Waitress\",\"Woman\",\"Woman No. 1\",\"Woman No. 2\",\"#ALL#\",\"Alison\",\"Amber\",\"Annabelle\",\"Barry Farber\",\"Ben Geller\",\"Best Man\",\"Big Bully\",\"Bobby Rush\",\"Both\",\"Buddy Boyles\",\"Carol Willick\",\"Caroline\",\"Casting Guy\",\"Chandler Bing\",\"Customer\",\"Dean Lipson\",\"Delivery Guy\",\"Director\",\"Director's Assistant\",\"Doctor\",\"Dr. Drake Ramoray\",\"Dr. Horton\",\"Duncan\",\"Eddie Menuek\",\"Erica Ford\",\"Ernie\",\"Estelle Leonard\",\"Frank Buffay Jr.\",\"Friend\",\"Gail\",\"Gang\",\"Girl 1\",\"Girl 1 On Bus\",\"Girl 2\",\"Girl 2 On Bus\",\"Girl's Voice\",\"Grandmother\",\"Gunther\",\"Guy\",\"Guys\",\"Hombre Man\",\"Intercom\",\"Interviewer\",\"Jade\",\"Janice Litman Goralnik\",\"Janitor\",\"Jean-Claude Van Damme\",\"Jeannie\",\"Joey Tribbiani\",\"Joey's Co-Star\",\"Judy Geller\",\"Julie\",\"Kid\",\"Kids\",\"Leonard Green\",\"Little Bully\",\"Machine\",\"Man\",\"Michael\",\"Mindy Hunter\",\"Minister\",\"Monica Geller\",\"Mover\",\"Mr. Adelman\",\"Mr. Douglas\",\"Mr. Heckles\",\"Mr. Ratstatter\",\"Mr. Treeger\",\"Mr. Wineburg\",\"Mrs. Buffay\",\"Mrs. Wallace\",\"Mrs. Wineburg\",\"Old Woman\",\"Paulo\",\"Phoebe Buffay\",\"Producer\",\"Rachel Green\",\"Radio\",\"Richard Burke\",\"Rob\",\"Ross Geller\",\"Roy\",\"Russ\",\"Ryan\",\"Sandra Green\",\"Scene Directions\",\"Scott Alexander\",\"Security Guard\",\"Stephanie Schiffer\",\"Steven Fisher\",\"Store Guy\",\"Stranger\",\"Susan Bunch\",\"Susie Moss\",\"Tattoo Artist\",\"Terry\",\"Tilly\",\"Together\",\"Trainer\",\"Transit Authority Guy\",\"Tv Doctor\",\"Waiter\",\"Waitress\",\"Wedding Planner\",\"Woman\",\"Writer\",\"#ALL#\",\"Alice Knight\",\"Anchorwoman\",\"Announcer\",\"Bass Singer\",\"Ben Geller\",\"Billy\",\"Bonnie\",\"Cailin\",\"Carol Willick\",\"Chandler Bing\",\"Chloe\",\"Clerk\",\"Commercial\",\"Cookie Tribbiani\",\"Director\",\"Doug\",\"Dr. Johnson\",\"Dr. Rhodes\",\"Employee\",\"Eric (photographer)\",\"Estelle Leonard\",\"Fireman\",\"Frank Buffay Jr.\",\"Friend No. 1\",\"Friend No. 2\",\"Ginger\",\"Girl\",\"Gunther\",\"Guru Saj\",\"Guy\",\"Her Friends\",\"Hold Voice\",\"Hoshi\",\"Host\",\"Hypnosis Tape\",\"Isabella Rosselini\",\"Issac\",\"Jack Geller\",\"Janice Litman Goralnik\",\"Jasmine\",\"Jason\",\"Jeannine\",\"Jester\",\"Joanna\",\"Joey Tribbiani\",\"Joey's Grandmother\",\"Joey's Sister\",\"Joey's Sisters\",\"Judy Geller\",\"Julio (poet)\",\"Kate Miller\",\"Lauren\",\"Leader\",\"Lecturer\",\"Leonard Green\",\"Leslie\",\"Machine\",\"Malcom\",\"Man\",\"Margha\",\"Mark Robinson\",\"Mary-Angela\",\"Mary-Theresa\",\"Matress King\",\"Michelle Burke\",\"Mike\",\"Mischa\",\"Monica Geller\",\"Mr. Heckles\",\"Mr. Kaplan\",\"Pete's Mom\",\"Peter Becker\",\"Phil\",\"Phoebe Abbott\",\"Phoebe Buffay\",\"Quartet\",\"Rachel Green\",\"Rachel's Boss\",\"Referee\",\"Richard Burke\",\"Richard's Date\",\"Robert Bobby\",\"Robin\",\"Robin Williams\",\"Ross Geller\",\"Sarah Tuttle\",\"Scene Directions\",\"Secretary\",\"Sergei\",\"Sherman Whitfield\",\"Singer\",\"Sister 1\",\"Sophie\",\"Spokeswoman\",\"Stage Manager\",\"Stevens\",\"Student\",\"Susan Bunch\",\"The Bass Barber\",\"The Director\",\"The Girls\",\"The Guys\",\"Tommy\",\"Tv Announcer\",\"Vince\",\"Waitress\",\"Woman\",\"Woman's Voice\",\"#ALL#\",\"A Waiter\",\"Air Hostess\",\"Alice Knight\",\"Allesandro\",\"Amanda (Ross' date)\",\"Andrea Waltham\",\"Another Scientist\",\"Another Tour Guide\",\"Bank Officer\",\"Bonnie\",\"Both\",\"Carol Willick\",\"Casey\",\"Chandler Bing\",\"Charlton Heston\",\"Cheryl\",\"Chip Matthews\",\"Chloe\",\"Devon\",\"Doctor\",\"Dr. Zane\",\"Dressmaker\",\"Drew\",\"Drunk Man\",\"Emily Waltham\",\"Felicity\",\"Fergie\",\"Frank Buffay Jr.\",\"Gate Agent\",\"Gunther\",\"Guy\",\"Gym Employee\",\"Housekeeper\",\"Interviewer\",\"Jack Geller\",\"Janice Litman Goralnik\",\"Joanna\",\"Joey Tribbiani\",\"Joshua Burgin\",\"Judy Geller\",\"Julie\",\"Kathy\",\"Kathy's Co-Star\",\"Kitchen Worker\",\"Liam\",\"Marjorie\",\"Mike\",\"Minister\",\"Monica Geller\",\"Mr. Burgin\",\"Mr. Posner\",\"Mr. Simon\",\"Mr. Treeger\",\"Mrs. Burgin\",\"Mrs. Burkart\",\"Mrs. Chatracus\",\"Mrs. Lynch\",\"Mrs. Potter\",\"Ms. Lambert\",\"Nurse\",\"Older Scientist\",\"Oven\",\"Passenger\",\"Peter\",\"Phoebe Abbott\",\"Phoebe Buffay\",\"Rachel Green\",\"Rick Sanoven\",\"Ross Geller\",\"Scene Directions\",\"Sleep Clinic Worker\",\"Smart Kid\",\"Sophie\",\"Stephen Waltham\",\"Susan Bunch\",\"The A.D\",\"The Cigarette Guy\",\"The Cigarette Smoking Guy\",\"The Conductor\",\"The Doctor\",\"The Girls\",\"The Guys\",\"The Saleslady\",\"The Salesman\",\"The Singing Man\",\"The Stripper\",\"The Vendor\",\"The Waiter\",\"The Woman From Poughkeepsie\",\"Ticket Agent\",\"Ticket Counter Attendant\",\"Timothy Burke\",\"Tony\",\"Tour Guide\",\"Ursula Buffay\",\"Voice\",\"Waiter\",\"Woman\",\"Woman On Train\",\"#ALL#\",\"A Casino Boss\",\"A Drunken Gambler\",\"A Female Student\",\"A Tourist\",\"Alice Knight\",\"Andrea Waltham\",\"Answering Machine\",\"Ben Geller\",\"Blackjack Dealer\",\"Bob\",\"Both\",\"Caitlin\",\"Carol Willick\",\"Chandler Bing\",\"Cop\",\"Cynthia\",\"Dan\",\"Danny\",\"Danny's Sister\",\"Dave\",\"Delivery Girl\",\"Delivery Room Nurse\",\"Doug\",\"Dr. Harad\",\"Dr. Ledbetter\",\"Dr. Miller\",\"Dr. Oberman\",\"Drunken Gambler\",\"Elizabeth Hornswoggle\",\"Emeril\",\"Emily Waltham\",\"Estelle Leonard\",\"Frank Buffay Jr.\",\"Frank Buffay Sr.\",\"Gary\",\"Gary Collins\",\"Gary's Radio\",\"Gate Agent\",\"Grandma Tribbiani\",\"Guest #1\",\"Guest #2\",\"Guest #3\",\"Gunther\",\"Guy\",\"Health Inspector\",\"Hotel Clerk\",\"Jack Geller\",\"Janice Litman Goralnik\",\"Jay Leno\",\"Jen\",\"Joey Tribbiani\",\"Joey's Doctor\",\"Joey's Hand Twin\",\"Judy Geller\",\"Kara\",\"Katie\",\"Kim\",\"Krista\",\"Kyle\",\"Larry\",\"Male Nurse\",\"Man\",\"Minister\",\"Monica Geller\",\"Mr. Zelner\",\"Nancy\",\"Nora Tyler Bing\",\"Nurse\",\"Party Guests\",\"Pbs Volunteer\",\"Phoebe Buffay\",\"Rachel Green\",\"Raymond\",\"Ross Geller\",\"Scene Directions\",\"Stage Director\",\"Stanley\",\"Stephen Waltham\",\"Steve Cera\",\"The Attendant\",\"The Casting Director\",\"The Croupier\",\"The Doctor\",\"The Flight Attendant\",\"The Grip\",\"The Guys\",\"The Hot Girl\",\"The Housekeeper\",\"The Husband\",\"The Little Girl\",\"The Lurker\",\"The Man\",\"The Old Man\",\"The Paramedic\",\"The Pastor\",\"The Salesman\",\"The Saleswoman\",\"The Security Guard\",\"The Smoking Woman\",\"The Teacher\",\"The Woman Dealer\",\"Tom\",\"Ursula Buffay\",\"Voice\",\"Woman\",\"Woman No. 1\",\"Woman No. 2\",\"#ALL#\",\"A Crew Member\",\"A Male Customer\",\"A Student\",\"Alex\",\"Another Man's Voice\",\"Arthur\",\"Attendant\",\"Barry Farber\",\"Ben Geller\",\"Burt\",\"C.H.E.E.S.E.\",\"Carl (Joey's lookalike)\",\"Carol Willick\",\"Casting Director #1\",\"Casting Director #2\",\"Casting Director #3\",\"Chandler Bing\",\"Croupler\",\"Customer\",\"Customers\",\"Dana Keystone\",\"Director\",\"Dr. Drake Ramoray\",\"Dr. Ledbetter\",\"Dr. Roger\",\"Dr. Wesley\",\"Eldad\",\"Elizabeth Stevens\",\"Emil Alexander\",\"Estelle Leonard\",\"Female Clerk\",\"Female Jeweler\",\"Fireman #1\",\"Fireman #2\",\"First Dorm Guy\",\"Girl\",\"Gunther\",\"Guy\",\"Guy #1\",\"Guy #2\",\"Guy All The Way In The Back\",\"Hillary\",\"Hitchhiker\",\"Hope\",\"Interviewer\",\"Jack\",\"Jack Geller\",\"Janice Litman Goralnik\",\"Janice's Voice\",\"Janine Lecroix\",\"Jill Green\",\"Joey Tribbiani\",\"Joey's Look-A-Like\",\"Judge\",\"Judy Geller\",\"Karin\",\"Kim\",\"Lisa\",\"Lorraine\",\"Lydia\",\"Male Jeweler\",\"Man's Voice\",\"Matire'D\",\"Meg\",\"Mel\",\"Monica Geller\",\"Monica's Boyfriend\",\"Mr. Bowmont\",\"Mr. Thompson\",\"Narrator\",\"Nurse\",\"Passerby\",\"Patrick\",\"Patron\",\"Paul Stevens\",\"Phoebe Buffay\",\"Professor Feesen\",\"Rachel Green\",\"Ralph Lauren\",\"Receptionist\",\"Richard Burke\",\"Richard's Date\",\"Ross Geller\",\"Russell\",\"Same Man's Voice\",\"Sarah\",\"Scene Directions\",\"Sebastian\",\"Second Dorm Guy\",\"Stephanie\",\"Susan Bunch\",\"Tall Guy\",\"The Director\",\"The Doctor\",\"The Dry Cleaner\",\"The Fan\",\"The Girls\",\"The Guys\",\"The Instructor\",\"The Museum Official\",\"The Porsche Owner\",\"The Potential Roommate\",\"The Producer\",\"The Professor\",\"The Vampire\",\"Ursula Buffay\",\"Waitress\",\"Wayne\",\"Woman\",\"Zoe\",\"#ALL#\",\"A Disembodied Voice\",\"A Woman\",\"Announcer\",\"Aunt Millie\",\"Ben Geller\",\"C.H.E.E.S.E.\",\"Carol Willick\",\"Cassie Geller\",\"Cecilia\",\"Chandler Bing\",\"Charles Bing\",\"David\",\"Dina\",\"Dr. Stryker Remoray\",\"Earl\",\"Erin\",\"Estelle Leonard\",\"Female Student\",\"Franny\",\"Fredrick\",\"Gary\",\"Gunther\",\"Guy\",\"Helena\",\"Hilda\",\"Jack Geller\",\"Jake\",\"Janice Litman Goralnik\",\"Jessica Ashley\",\"Jessica Lockhart\",\"Joey Tribbiani\",\"Joey's Date\",\"Judy Geller\",\"Julie Graff\",\"Kathy\",\"Kristen Leigh\",\"Kyle\",\"Lewis\",\"Lisa Kudrow\",\"Mac\",\"Maitre D'\",\"Male Guest\",\"Male Student\",\"Man\",\"Marge\",\"Matthew Perry\",\"Megan Bailey\",\"Melissa Warburton\",\"Monica Geller\",\"Mr. Zelner\",\"Ned Morse\",\"Nora Tyler Bing\",\"Nurse #1\",\"Nurse #2\",\"Phoebe Buffay\",\"Policeman\",\"Rachel Green\",\"Richard Burke\",\"Ross Geller\",\"Salesman\",\"Scene Directions\",\"Smoke Detector\",\"Supervisor\",\"Tag Jones\",\"Terry\",\"The \\\"Hey Guy\\\" Guy\",\"The Assistant Director\",\"The Casting Director\",\"The Chorus Line\",\"The Colonel\",\"The Cute Guy\",\"The Director\",\"The Fireman\",\"The Head Librarian\",\"The Knocker\",\"The Librarian\",\"The Man\",\"The Man In The Sportscar\",\"The Other Woman\",\"The Photographer\",\"The Presenter\",\"The Rabbi\",\"The Second Guest\",\"The Waiter\",\"The Waitress\",\"The Wedding Guest\",\"The Woman\",\"The Writer\",\"Tom\",\"Ursula Buffay\",\"Waiter In Drag\",\"Waitress\",\"Whitney\",\"Woman\",\"#ALL#\",\"Airline Employee\",\"Anxious Wedding Guest\",\"Ashley\",\"Aunt Lisa\",\"Ballerina\",\"Bandleader\",\"Ben Geller\",\"Bob (Chandler's coworker)\",\"Bobby Corso\",\"Both\",\"Boy In The Cape\",\"Brenda\",\"Cashier\",\"Chandler Bing\",\"Cliff\",\"Clown\",\"Cowgirl\",\"Dennis Phillips\",\"Dina\",\"Director\",\"Doctor\",\"Don\",\"Doug\",\"Dr. Drake Ramoray\",\"Dr. Long\",\"Dr. Schiff\",\"Eric\",\"Erin\",\"Estelle Leonard\",\"Evil Bitch\",\"Fat Girl\",\"Front Desk Clerk\",\"Gert\",\"Girl\",\"Gunther\",\"Guy\",\"Hooker\",\"Host\",\"Jack Geller\",\"Janice Litman Goralnik\",\"Janine\",\"Jill Green\",\"Jim\",\"Joey Tribbiani\",\"Joey's Co-Star\",\"Joey's Date\",\"Judy Geller\",\"Julie Coreger\",\"Kash\",\"Katie (saleswoman)\",\"Kid\",\"Kids\",\"Kristen\",\"Lauren\",\"Leonard Green\",\"Little Girl\",\"Locksmith\",\"Man\",\"Man At The Wedding\",\"Man On Tv\",\"Marc Coreger\",\"Mike\",\"Mona\",\"Mona's Date\",\"Monica Geller\",\"Mr. Franklin\",\"Mr. Treeger\",\"Mr. Zelner\",\"Mrs. Verhoeven's Daughter\",\"Nora Tyler Bing\",\"Nurse\",\"Parker\",\"Phoebe Buffay\",\"Photographer\",\"Rachel Green\",\"Ray\",\"Roger\",\"Ross Geller\",\"Sandra Green\",\"Scene Directions\",\"Second Girl\",\"Sick Bastard\",\"Sid Goralnik\",\"Stripper\",\"Stu\",\"Student\",\"Tag Jones\",\"The Acting Teacher\",\"The Cooking Teacher\",\"The Food Critic\",\"The Girls\",\"The Interviewer\",\"The Teacher\",\"Ticket Agent\",\"Tim\",\"Trudie Styler\",\"Uncle Dan\",\"Ursula Buffay\",\"Waiter\",\"Waiter No. 2\",\"Waitress\",\"Will Colbert\",\"Witch\",\"Woman\",\"Woman At The Wedding\",\"Woman Giving Birth\",\"Woman On Tv\",\"#ALL#\",\"1st Customer\",\"Alexandra Steele\",\"Amy Green\",\"Another Extra\",\"Ben Geller\",\"Bill\",\"Bitsy Hannigan\",\"Bitter Lady\",\"Bitter Woman\",\"Blonde Girl\",\"Boss\",\"Boy\",\"Catherine\",\"Chandler Bing\",\"Chandlers\",\"Charlie Wheeler\",\"Chase Lassiter\",\"Claudia\",\"David\",\"Director\",\"Dirk\",\"Doctor Connelly\",\"Dr. Drake Ramoray\",\"Dr. Gettleman\",\"Extra\",\"Gavin Mitchell\",\"Girl\",\"Gunther\",\"Guy\",\"Handyman\",\"Hayley\",\"Hayley's Roommate\",\"Heather\",\"Her Friend\",\"Intern\",\"Interviewer\",\"Jack Geller\",\"Jane\",\"Janice Litman Goralnik\",\"Jarvis Oberblau\",\"Jeanette\",\"Jo Lynn\",\"Joey Tribbiani\",\"Judy Geller\",\"Ken\",\"Kevin\",\"Kori\",\"Kyle Lowder\",\"Lennart\",\"Lowell (mugger)\",\"Maitre D'\",\"Man\",\"Man With A Bow Tie\",\"Manny\",\"Mary Ellen\",\"Matthew Ashford\",\"Message\",\"Michelle\",\"Mike Hannigan\",\"Molly\",\"Monica Geller\",\"Mr. Zelner\",\"Ms. Mckenna\",\"Nurse\",\"Olivia\",\"Others\",\"Paleontologist\",\"Phoebe Buffay\",\"Producer #1\",\"Professor Feesen\",\"Professor Sherman\",\"Professor Spafford\",\"Professore Clerk\",\"Prospective Nanny\",\"Racel\",\"Rachel Green\",\"Receptionist\",\"Ross Geller\",\"Sally\",\"Salon Girl\",\"Sandy\",\"Sarah\",\"Scene Directions\",\"Second Message\",\"Shop Assistant\",\"Sonia\",\"Steve\",\"Strange Man\",\"Stranger\",\"Theodore\",\"Tom\",\"Tv Announcer\",\"Waiter\",\"Waiter #2\",\"Waiters\",\"Wendy\",\"Woman\",\"Woman At Door\",\"Zack\",\"#ALL#\",\"Adoption Agency Guy\",\"Adrienne\",\"Agency Guy\",\"Air Stewardess\",\"Amanda Buffamonteezi\",\"Amy Green\",\"Announcer\",\"Answering Machine\",\"Assistant\",\"Benjamin Hobart\",\"Bill\",\"Both\",\"Casting Assistant\",\"Chandler Bing\",\"Charity Guy\",\"Charlie Wheeler\",\"Clerk\",\"Colleen\",\"Director\",\"Doctor\",\"Donny Osmond\",\"Dr. Biely\",\"Dr. Li\",\"Emma\",\"Erica\",\"Estelle Leonard\",\"Frank Buffay Jr.\",\"Gate Attendant #1\",\"Gate Attendant #2\",\"Gene\",\"Girl\",\"Glenda\",\"Gunther\",\"Henrietta\",\"Host\",\"Jack Geller\",\"Janice Litman Goralnik\",\"Jennifer Aniston\",\"Joey Tribbiani\",\"Judy Geller\",\"Lady\",\"Laura\",\"Leonard Green\",\"Mackenzie\",\"Maitre D'\",\"Man\",\"Mark Robinson\",\"Mike Hannigan\",\"Mike's Dad\",\"Mike's Father\",\"Mike's Mom\",\"Mike's Mother\",\"Missy Goldberg\",\"Monica Geller\",\"Mr. Campbell\",\"Mr. Zelner\",\"Nurse\",\"Owen\",\"Passenger #1\",\"Passenger #2\",\"Passenger #3\",\"Phoebe Buffay\",\"Pizza Guy\",\"Precious\",\"Rachel Green\",\"Realtor\",\"Rita\",\"Ross Geller\",\"Roy\",\"Sarah\",\"Scene Directions\",\"Stage Manager\",\"Tape\",\"The Guys\",\"Ticket Agent\",\"Voice\",\"Waiter\",\"Woman\"],\"xaxis\":\"x\",\"y\":[91,1,6,2,13,1,5,8,29,35,3,4,4,3,6,79,1,2,6,818,7,2,5,28,2,7,7,16,13,2,10,28,18,3,3,4,8,7,5,2,8,8,5,4,2,2,11,38,1,4,14,5,640,23,33,3,3,4,5,3,11,4,7,16,21,3,4,13,8,22,874,9,22,1,14,28,17,19,17,6,1,641,2,1,7,1,850,6,5,24,19,973,4,2,658,11,1,23,69,16,2,1,1,20,1,14,4,1,44,1,6,7,3,5,3,22,27,5,3,46,6,4,768,1,6,5,3,6,3,9,2,20,64,26,2,12,16,4,2,6,5,1,2,1,1,18,11,8,1,9,1,12,17,8,12,14,2,654,4,41,41,4,1,25,20,2,1,14,5,1,788,3,8,4,4,18,12,4,7,1,2,1,3,664,4,811,2,155,15,909,2,23,32,45,301,4,4,13,6,2,4,21,35,1,7,8,1,2,1,1,11,1,1,1,1,55,13,1,2,1,5,11,31,6,27,825,28,2,1,4,12,18,1,6,1,6,3,1,79,4,4,16,6,32,13,23,1,4,4,2,3,10,12,11,62,8,15,3,4,27,774,4,6,3,1,13,61,24,5,2,32,14,5,14,8,11,44,2,1,2,1,3,14,848,7,7,1,103,2,18,793,5,925,1,1,43,5,21,10,1,1076,11,771,1,6,6,4,1,8,2,2,3,7,4,2,17,2,6,21,2,16,1,15,1,41,1,2,25,11,7,26,2,1,2,3,5,11,2,966,9,17,18,3,4,1,6,1,4,2,145,5,4,28,2,22,3,6,7,2,19,26,46,838,103,33,1,89,4,2,7,3,4,12,818,9,2,1,38,5,9,1,8,3,1,2,2,1,7,1,32,731,966,10,861,801,3,1,6,31,7,7,1,1,2,8,1,1,6,15,6,11,4,9,1,15,5,28,3,6,7,2,2,4,4,47,1,1,1,1,3,7,1,3,2,3,1,25,7,940,14,4,7,58,1,4,1,1,16,18,14,14,2,2,6,1,29,3,25,24,91,2,2,2,6,1,1,1,10,6,1,3,12,14,1,5,935,6,13,13,4,15,24,9,2,21,2,5,9,913,12,9,1,5,1,2,815,917,1,870,862,6,6,9,14,1,18,3,9,4,2,1,3,1,1,1,6,4,2,1,1,6,4,7,7,11,3,3,8,1,1,3,5,23,3,1,1,1,1,2,1,1,2,3,2,3,13,3,3,1,1037,2,9,1,11,15,4,3,6,2,4,89,1,8,3,1,5,4,2,1,30,1,1,3,1,16,6,2,7,10,12,2,2,90,67,909,2,11,10,2,17,1,2,1,10,1,2,2,1,901,6,6,12,1,1,1,3,3,116,787,1,993,2,5,50,1,913,12,1,1,777,9,1,1,3,6,9,3,13,8,3,1,7,6,6,7,6,2,1,6,2,11,14,1,15,1,3,3,3,53,2,10,16,49,846,5,20,8,1,29,23,3,1,2,1,5,5,6,18,4,60,5,18,4,4,933,3,22,2,2,27,4,10,1,2,3,1,1,9,1,1,15,33,900,7,10,7,1,1,800,22,1092,33,822,3,705,1,8,131,10,1,4,10,2,1,7,21,5,2,1,1,2,1,1,2,1,4,1,7,1,2,13,1,7,13,1,1,8,25,4,4,4,1,5,3,3,3,11,7,1,6,14,7,676,20,1,1,8,23,1,3,12,16,3,37,8,62,1,3,6,2,2,3,4,10,6,4,1,6,24,3,2,13,909,6,4,16,7,8,7,1,2,5,1,27,7,1,21,3,3,7,2,111,3,811,9,8,5,10,4,16,33,771,5,1082,6,1,983,37,625,2,2,2,5,6,2,15,1,20,3,1,32,7,6,19,12,1,17,8,3,1,50,1,21,3,1,3,12,1,1,58,1,2,6,16,2,1,1,5,1,4,906,1,132,1,3,72,16,3,5,13,2,1,64,2,7,2,2,12,1,1,1,6,6,22,1,10,2,1,1,856,1,5,2,7,1,33,7,2,2,2,8,4,2,2,16,214,17,903,5,8,7,6,3,1,800,1,1,1,6,1,4,1,902,23,879,2,3,29,3,331,2,1,4,16,1,2,9,5,2,27,1,2,15,10,2,20,15,1,2,11,7,14,65,3,1,11,38,4,3,1,683,18,57,5,9,6,13,12,2,2,1,67,4,24,4,6,27,4,2,4,1,1,8,14,1,723,10,4,16,5,11,3,8,8,116,1,2,2,1,10,685,10,22,5,10,8,3,1,699,1,11,774,2,3,871,24,14,232,1,2,1,1,1,5,1],\"yaxis\":\"y\",\"type\":\"bar\"}],                        {\"template\":{\"data\":{\"histogram2dcontour\":[{\"type\":\"histogram2dcontour\",\"colorbar\":{\"outlinewidth\":0,\"ticks\":\"\"},\"colorscale\":[[0.0,\"#0d0887\"],[0.1111111111111111,\"#46039f\"],[0.2222222222222222,\"#7201a8\"],[0.3333333333333333,\"#9c179e\"],[0.4444444444444444,\"#bd3786\"],[0.5555555555555556,\"#d8576b\"],[0.6666666666666666,\"#ed7953\"],[0.7777777777777778,\"#fb9f3a\"],[0.8888888888888888,\"#fdca26\"],[1.0,\"#f0f921\"]]}],\"choropleth\":[{\"type\":\"choropleth\",\"colorbar\":{\"outlinewidth\":0,\"ticks\":\"\"}}],\"histogram2d\":[{\"type\":\"histogram2d\",\"colorbar\":{\"outlinewidth\":0,\"ticks\":\"\"},\"colorscale\":[[0.0,\"#0d0887\"],[0.1111111111111111,\"#46039f\"],[0.2222222222222222,\"#7201a8\"],[0.3333333333333333,\"#9c179e\"],[0.4444444444444444,\"#bd3786\"],[0.5555555555555556,\"#d8576b\"],[0.6666666666666666,\"#ed7953\"],[0.7777777777777778,\"#fb9f3a\"],[0.8888888888888888,\"#fdca26\"],[1.0,\"#f0f921\"]]}],\"heatmap\":[{\"type\":\"heatmap\",\"colorbar\":{\"outlinewidth\":0,\"ticks\":\"\"},\"colorscale\":[[0.0,\"#0d0887\"],[0.1111111111111111,\"#46039f\"],[0.2222222222222222,\"#7201a8\"],[0.3333333333333333,\"#9c179e\"],[0.4444444444444444,\"#bd3786\"],[0.5555555555555556,\"#d8576b\"],[0.6666666666666666,\"#ed7953\"],[0.7777777777777778,\"#fb9f3a\"],[0.8888888888888888,\"#fdca26\"],[1.0,\"#f0f921\"]]}],\"heatmapgl\":[{\"type\":\"heatmapgl\",\"colorbar\":{\"outlinewidth\":0,\"ticks\":\"\"},\"colorscale\":[[0.0,\"#0d0887\"],[0.1111111111111111,\"#46039f\"],[0.2222222222222222,\"#7201a8\"],[0.3333333333333333,\"#9c179e\"],[0.4444444444444444,\"#bd3786\"],[0.5555555555555556,\"#d8576b\"],[0.6666666666666666,\"#ed7953\"],[0.7777777777777778,\"#fb9f3a\"],[0.8888888888888888,\"#fdca26\"],[1.0,\"#f0f921\"]]}],\"contourcarpet\":[{\"type\":\"contourcarpet\",\"colorbar\":{\"outlinewidth\":0,\"ticks\":\"\"}}],\"contour\":[{\"type\":\"contour\",\"colorbar\":{\"outlinewidth\":0,\"ticks\":\"\"},\"colorscale\":[[0.0,\"#0d0887\"],[0.1111111111111111,\"#46039f\"],[0.2222222222222222,\"#7201a8\"],[0.3333333333333333,\"#9c179e\"],[0.4444444444444444,\"#bd3786\"],[0.5555555555555556,\"#d8576b\"],[0.6666666666666666,\"#ed7953\"],[0.7777777777777778,\"#fb9f3a\"],[0.8888888888888888,\"#fdca26\"],[1.0,\"#f0f921\"]]}],\"surface\":[{\"type\":\"surface\",\"colorbar\":{\"outlinewidth\":0,\"ticks\":\"\"},\"colorscale\":[[0.0,\"#0d0887\"],[0.1111111111111111,\"#46039f\"],[0.2222222222222222,\"#7201a8\"],[0.3333333333333333,\"#9c179e\"],[0.4444444444444444,\"#bd3786\"],[0.5555555555555556,\"#d8576b\"],[0.6666666666666666,\"#ed7953\"],[0.7777777777777778,\"#fb9f3a\"],[0.8888888888888888,\"#fdca26\"],[1.0,\"#f0f921\"]]}],\"mesh3d\":[{\"type\":\"mesh3d\",\"colorbar\":{\"outlinewidth\":0,\"ticks\":\"\"}}],\"scatter\":[{\"fillpattern\":{\"fillmode\":\"overlay\",\"size\":10,\"solidity\":0.2},\"type\":\"scatter\"}],\"parcoords\":[{\"type\":\"parcoords\",\"line\":{\"colorbar\":{\"outlinewidth\":0,\"ticks\":\"\"}}}],\"scatterpolargl\":[{\"type\":\"scatterpolargl\",\"marker\":{\"colorbar\":{\"outlinewidth\":0,\"ticks\":\"\"}}}],\"bar\":[{\"error_x\":{\"color\":\"#2a3f5f\"},\"error_y\":{\"color\":\"#2a3f5f\"},\"marker\":{\"line\":{\"color\":\"#E5ECF6\",\"width\":0.5},\"pattern\":{\"fillmode\":\"overlay\",\"size\":10,\"solidity\":0.2}},\"type\":\"bar\"}],\"scattergeo\":[{\"type\":\"scattergeo\",\"marker\":{\"colorbar\":{\"outlinewidth\":0,\"ticks\":\"\"}}}],\"scatterpolar\":[{\"type\":\"scatterpolar\",\"marker\":{\"colorbar\":{\"outlinewidth\":0,\"ticks\":\"\"}}}],\"histogram\":[{\"marker\":{\"pattern\":{\"fillmode\":\"overlay\",\"size\":10,\"solidity\":0.2}},\"type\":\"histogram\"}],\"scattergl\":[{\"type\":\"scattergl\",\"marker\":{\"colorbar\":{\"outlinewidth\":0,\"ticks\":\"\"}}}],\"scatter3d\":[{\"type\":\"scatter3d\",\"line\":{\"colorbar\":{\"outlinewidth\":0,\"ticks\":\"\"}},\"marker\":{\"colorbar\":{\"outlinewidth\":0,\"ticks\":\"\"}}}],\"scattermapbox\":[{\"type\":\"scattermapbox\",\"marker\":{\"colorbar\":{\"outlinewidth\":0,\"ticks\":\"\"}}}],\"scatterternary\":[{\"type\":\"scatterternary\",\"marker\":{\"colorbar\":{\"outlinewidth\":0,\"ticks\":\"\"}}}],\"scattercarpet\":[{\"type\":\"scattercarpet\",\"marker\":{\"colorbar\":{\"outlinewidth\":0,\"ticks\":\"\"}}}],\"carpet\":[{\"aaxis\":{\"endlinecolor\":\"#2a3f5f\",\"gridcolor\":\"white\",\"linecolor\":\"white\",\"minorgridcolor\":\"white\",\"startlinecolor\":\"#2a3f5f\"},\"baxis\":{\"endlinecolor\":\"#2a3f5f\",\"gridcolor\":\"white\",\"linecolor\":\"white\",\"minorgridcolor\":\"white\",\"startlinecolor\":\"#2a3f5f\"},\"type\":\"carpet\"}],\"table\":[{\"cells\":{\"fill\":{\"color\":\"#EBF0F8\"},\"line\":{\"color\":\"white\"}},\"header\":{\"fill\":{\"color\":\"#C8D4E3\"},\"line\":{\"color\":\"white\"}},\"type\":\"table\"}],\"barpolar\":[{\"marker\":{\"line\":{\"color\":\"#E5ECF6\",\"width\":0.5},\"pattern\":{\"fillmode\":\"overlay\",\"size\":10,\"solidity\":0.2}},\"type\":\"barpolar\"}],\"pie\":[{\"automargin\":true,\"type\":\"pie\"}]},\"layout\":{\"autotypenumbers\":\"strict\",\"colorway\":[\"#636efa\",\"#EF553B\",\"#00cc96\",\"#ab63fa\",\"#FFA15A\",\"#19d3f3\",\"#FF6692\",\"#B6E880\",\"#FF97FF\",\"#FECB52\"],\"font\":{\"color\":\"#2a3f5f\"},\"hovermode\":\"closest\",\"hoverlabel\":{\"align\":\"left\"},\"paper_bgcolor\":\"white\",\"plot_bgcolor\":\"#E5ECF6\",\"polar\":{\"bgcolor\":\"#E5ECF6\",\"angularaxis\":{\"gridcolor\":\"white\",\"linecolor\":\"white\",\"ticks\":\"\"},\"radialaxis\":{\"gridcolor\":\"white\",\"linecolor\":\"white\",\"ticks\":\"\"}},\"ternary\":{\"bgcolor\":\"#E5ECF6\",\"aaxis\":{\"gridcolor\":\"white\",\"linecolor\":\"white\",\"ticks\":\"\"},\"baxis\":{\"gridcolor\":\"white\",\"linecolor\":\"white\",\"ticks\":\"\"},\"caxis\":{\"gridcolor\":\"white\",\"linecolor\":\"white\",\"ticks\":\"\"}},\"coloraxis\":{\"colorbar\":{\"outlinewidth\":0,\"ticks\":\"\"}},\"colorscale\":{\"sequential\":[[0.0,\"#0d0887\"],[0.1111111111111111,\"#46039f\"],[0.2222222222222222,\"#7201a8\"],[0.3333333333333333,\"#9c179e\"],[0.4444444444444444,\"#bd3786\"],[0.5555555555555556,\"#d8576b\"],[0.6666666666666666,\"#ed7953\"],[0.7777777777777778,\"#fb9f3a\"],[0.8888888888888888,\"#fdca26\"],[1.0,\"#f0f921\"]],\"sequentialminus\":[[0.0,\"#0d0887\"],[0.1111111111111111,\"#46039f\"],[0.2222222222222222,\"#7201a8\"],[0.3333333333333333,\"#9c179e\"],[0.4444444444444444,\"#bd3786\"],[0.5555555555555556,\"#d8576b\"],[0.6666666666666666,\"#ed7953\"],[0.7777777777777778,\"#fb9f3a\"],[0.8888888888888888,\"#fdca26\"],[1.0,\"#f0f921\"]],\"diverging\":[[0,\"#8e0152\"],[0.1,\"#c51b7d\"],[0.2,\"#de77ae\"],[0.3,\"#f1b6da\"],[0.4,\"#fde0ef\"],[0.5,\"#f7f7f7\"],[0.6,\"#e6f5d0\"],[0.7,\"#b8e186\"],[0.8,\"#7fbc41\"],[0.9,\"#4d9221\"],[1,\"#276419\"]]},\"xaxis\":{\"gridcolor\":\"white\",\"linecolor\":\"white\",\"ticks\":\"\",\"title\":{\"standoff\":15},\"zerolinecolor\":\"white\",\"automargin\":true,\"zerolinewidth\":2},\"yaxis\":{\"gridcolor\":\"white\",\"linecolor\":\"white\",\"ticks\":\"\",\"title\":{\"standoff\":15},\"zerolinecolor\":\"white\",\"automargin\":true,\"zerolinewidth\":2},\"scene\":{\"xaxis\":{\"backgroundcolor\":\"#E5ECF6\",\"gridcolor\":\"white\",\"linecolor\":\"white\",\"showbackground\":true,\"ticks\":\"\",\"zerolinecolor\":\"white\",\"gridwidth\":2},\"yaxis\":{\"backgroundcolor\":\"#E5ECF6\",\"gridcolor\":\"white\",\"linecolor\":\"white\",\"showbackground\":true,\"ticks\":\"\",\"zerolinecolor\":\"white\",\"gridwidth\":2},\"zaxis\":{\"backgroundcolor\":\"#E5ECF6\",\"gridcolor\":\"white\",\"linecolor\":\"white\",\"showbackground\":true,\"ticks\":\"\",\"zerolinecolor\":\"white\",\"gridwidth\":2}},\"shapedefaults\":{\"line\":{\"color\":\"#2a3f5f\"}},\"annotationdefaults\":{\"arrowcolor\":\"#2a3f5f\",\"arrowhead\":0,\"arrowwidth\":1},\"geo\":{\"bgcolor\":\"white\",\"landcolor\":\"#E5ECF6\",\"subunitcolor\":\"white\",\"showland\":true,\"showlakes\":true,\"lakecolor\":\"white\"},\"title\":{\"x\":0.05},\"mapbox\":{\"style\":\"light\"}}},\"xaxis\":{\"anchor\":\"y\",\"domain\":[0.0,1.0],\"title\":{\"text\":\"speaker\"}},\"yaxis\":{\"anchor\":\"x\",\"domain\":[0.0,1.0],\"title\":{\"text\":\"count\"}},\"coloraxis\":{\"colorbar\":{\"title\":{\"text\":\"season\"}},\"colorscale\":[[0.0,\"#0d0887\"],[0.1111111111111111,\"#46039f\"],[0.2222222222222222,\"#7201a8\"],[0.3333333333333333,\"#9c179e\"],[0.4444444444444444,\"#bd3786\"],[0.5555555555555556,\"#d8576b\"],[0.6666666666666666,\"#ed7953\"],[0.7777777777777778,\"#fb9f3a\"],[0.8888888888888888,\"#fdca26\"],[1.0,\"#f0f921\"]]},\"legend\":{\"tracegroupgap\":0},\"margin\":{\"t\":60},\"barmode\":\"relative\"},                        {\"responsive\": true}                    ).then(function(){\n",
              "                            \n",
              "var gd = document.getElementById('f87df135-b9b7-461a-9423-bf1b0668bfd3');\n",
              "var x = new MutationObserver(function (mutations, observer) {{\n",
              "        var display = window.getComputedStyle(gd).display;\n",
              "        if (!display || display === 'none') {{\n",
              "            console.log([gd, 'removed!']);\n",
              "            Plotly.purge(gd);\n",
              "            observer.disconnect();\n",
              "        }}\n",
              "}});\n",
              "\n",
              "// Listen for the removal of the full notebook cells\n",
              "var notebookContainer = gd.closest('#notebook-container');\n",
              "if (notebookContainer) {{\n",
              "    x.observe(notebookContainer, {childList: true});\n",
              "}}\n",
              "\n",
              "// Listen for the clearing of the current output cell\n",
              "var outputEl = gd.closest('.output');\n",
              "if (outputEl) {{\n",
              "    x.observe(outputEl, {childList: true});\n",
              "}}\n",
              "\n",
              "                        })                };                            </script>        </div>\n",
              "</body>\n",
              "</html>"
            ]
          },
          "metadata": {}
        }
      ]
    },
    {
      "cell_type": "code",
      "source": [
        "#Top 7 speakers dans chaque saison\n",
        "speakers = data['speaker'].value_counts().to_frame().reset_index().head(6)['speaker'].values\n",
        "top_speakers = data[data['speaker'].isin(speakers)]\n",
        "bar(data_frame=top_speakers[['season','speaker']].groupby(by=['season','speaker']).size().reset_index().rename({0:'count'}, axis=1), x='speaker',y='count',color='season')\n"
      ],
      "metadata": {
        "colab": {
          "base_uri": "https://localhost:8080/",
          "height": 542
        },
        "id": "59kADeb89aTd",
        "outputId": "a2491033-a5cb-4b2b-8fc2-e52263b17b0e"
      },
      "execution_count": null,
      "outputs": [
        {
          "output_type": "display_data",
          "data": {
            "text/html": [
              "<html>\n",
              "<head><meta charset=\"utf-8\" /></head>\n",
              "<body>\n",
              "    <div>            <script src=\"https://cdnjs.cloudflare.com/ajax/libs/mathjax/2.7.5/MathJax.js?config=TeX-AMS-MML_SVG\"></script><script type=\"text/javascript\">if (window.MathJax && window.MathJax.Hub && window.MathJax.Hub.Config) {window.MathJax.Hub.Config({SVG: {font: \"STIX-Web\"}});}</script>                <script type=\"text/javascript\">window.PlotlyConfig = {MathJaxConfig: 'local'};</script>\n",
              "        <script charset=\"utf-8\" src=\"https://cdn.plot.ly/plotly-2.24.1.min.js\"></script>                <div id=\"de82977c-fa46-45fe-8864-d7a54500bbd0\" class=\"plotly-graph-div\" style=\"height:525px; width:100%;\"></div>            <script type=\"text/javascript\">                                    window.PLOTLYENV=window.PLOTLYENV || {};                                    if (document.getElementById(\"de82977c-fa46-45fe-8864-d7a54500bbd0\")) {                    Plotly.newPlot(                        \"de82977c-fa46-45fe-8864-d7a54500bbd0\",                        [{\"alignmentgroup\":\"True\",\"hovertemplate\":\"speaker=%{x}\\u003cbr\\u003ecount=%{y}\\u003cbr\\u003eseason=%{marker.color}\\u003cextra\\u003e\\u003c\\u002fextra\\u003e\",\"legendgroup\":\"\",\"marker\":{\"color\":[1,1,1,1,1,1,2,2,2,2,2,2,3,3,3,3,3,3,4,4,4,4,4,4,5,5,5,5,5,5,6,6,6,6,6,6,7,7,7,7,7,7,8,8,8,8,8,8,9,9,9,9,9,9,10,10,10,10,10,10],\"coloraxis\":\"coloraxis\",\"pattern\":{\"shape\":\"\"}},\"name\":\"\",\"offsetgroup\":\"\",\"orientation\":\"v\",\"showlegend\":false,\"textposition\":\"auto\",\"x\":[\"Chandler Bing\",\"Joey Tribbiani\",\"Monica Geller\",\"Phoebe Buffay\",\"Rachel Green\",\"Ross Geller\",\"Chandler Bing\",\"Joey Tribbiani\",\"Monica Geller\",\"Phoebe Buffay\",\"Rachel Green\",\"Ross Geller\",\"Chandler Bing\",\"Joey Tribbiani\",\"Monica Geller\",\"Phoebe Buffay\",\"Rachel Green\",\"Ross Geller\",\"Chandler Bing\",\"Joey Tribbiani\",\"Monica Geller\",\"Phoebe Buffay\",\"Rachel Green\",\"Ross Geller\",\"Chandler Bing\",\"Joey Tribbiani\",\"Monica Geller\",\"Phoebe Buffay\",\"Rachel Green\",\"Ross Geller\",\"Chandler Bing\",\"Joey Tribbiani\",\"Monica Geller\",\"Phoebe Buffay\",\"Rachel Green\",\"Ross Geller\",\"Chandler Bing\",\"Joey Tribbiani\",\"Monica Geller\",\"Phoebe Buffay\",\"Rachel Green\",\"Ross Geller\",\"Chandler Bing\",\"Joey Tribbiani\",\"Monica Geller\",\"Phoebe Buffay\",\"Rachel Green\",\"Ross Geller\",\"Chandler Bing\",\"Joey Tribbiani\",\"Monica Geller\",\"Phoebe Buffay\",\"Rachel Green\",\"Ross Geller\",\"Chandler Bing\",\"Joey Tribbiani\",\"Monica Geller\",\"Phoebe Buffay\",\"Rachel Green\",\"Ross Geller\"],\"xaxis\":\"x\",\"y\":[818,640,874,641,850,973,768,654,788,664,811,909,825,774,848,793,925,1076,966,838,818,731,966,861,940,935,913,815,917,870,1037,909,901,787,993,913,846,933,900,800,1092,822,676,909,811,771,1082,983,906,856,903,800,902,879,683,723,685,699,774,871],\"yaxis\":\"y\",\"type\":\"bar\"}],                        {\"template\":{\"data\":{\"histogram2dcontour\":[{\"type\":\"histogram2dcontour\",\"colorbar\":{\"outlinewidth\":0,\"ticks\":\"\"},\"colorscale\":[[0.0,\"#0d0887\"],[0.1111111111111111,\"#46039f\"],[0.2222222222222222,\"#7201a8\"],[0.3333333333333333,\"#9c179e\"],[0.4444444444444444,\"#bd3786\"],[0.5555555555555556,\"#d8576b\"],[0.6666666666666666,\"#ed7953\"],[0.7777777777777778,\"#fb9f3a\"],[0.8888888888888888,\"#fdca26\"],[1.0,\"#f0f921\"]]}],\"choropleth\":[{\"type\":\"choropleth\",\"colorbar\":{\"outlinewidth\":0,\"ticks\":\"\"}}],\"histogram2d\":[{\"type\":\"histogram2d\",\"colorbar\":{\"outlinewidth\":0,\"ticks\":\"\"},\"colorscale\":[[0.0,\"#0d0887\"],[0.1111111111111111,\"#46039f\"],[0.2222222222222222,\"#7201a8\"],[0.3333333333333333,\"#9c179e\"],[0.4444444444444444,\"#bd3786\"],[0.5555555555555556,\"#d8576b\"],[0.6666666666666666,\"#ed7953\"],[0.7777777777777778,\"#fb9f3a\"],[0.8888888888888888,\"#fdca26\"],[1.0,\"#f0f921\"]]}],\"heatmap\":[{\"type\":\"heatmap\",\"colorbar\":{\"outlinewidth\":0,\"ticks\":\"\"},\"colorscale\":[[0.0,\"#0d0887\"],[0.1111111111111111,\"#46039f\"],[0.2222222222222222,\"#7201a8\"],[0.3333333333333333,\"#9c179e\"],[0.4444444444444444,\"#bd3786\"],[0.5555555555555556,\"#d8576b\"],[0.6666666666666666,\"#ed7953\"],[0.7777777777777778,\"#fb9f3a\"],[0.8888888888888888,\"#fdca26\"],[1.0,\"#f0f921\"]]}],\"heatmapgl\":[{\"type\":\"heatmapgl\",\"colorbar\":{\"outlinewidth\":0,\"ticks\":\"\"},\"colorscale\":[[0.0,\"#0d0887\"],[0.1111111111111111,\"#46039f\"],[0.2222222222222222,\"#7201a8\"],[0.3333333333333333,\"#9c179e\"],[0.4444444444444444,\"#bd3786\"],[0.5555555555555556,\"#d8576b\"],[0.6666666666666666,\"#ed7953\"],[0.7777777777777778,\"#fb9f3a\"],[0.8888888888888888,\"#fdca26\"],[1.0,\"#f0f921\"]]}],\"contourcarpet\":[{\"type\":\"contourcarpet\",\"colorbar\":{\"outlinewidth\":0,\"ticks\":\"\"}}],\"contour\":[{\"type\":\"contour\",\"colorbar\":{\"outlinewidth\":0,\"ticks\":\"\"},\"colorscale\":[[0.0,\"#0d0887\"],[0.1111111111111111,\"#46039f\"],[0.2222222222222222,\"#7201a8\"],[0.3333333333333333,\"#9c179e\"],[0.4444444444444444,\"#bd3786\"],[0.5555555555555556,\"#d8576b\"],[0.6666666666666666,\"#ed7953\"],[0.7777777777777778,\"#fb9f3a\"],[0.8888888888888888,\"#fdca26\"],[1.0,\"#f0f921\"]]}],\"surface\":[{\"type\":\"surface\",\"colorbar\":{\"outlinewidth\":0,\"ticks\":\"\"},\"colorscale\":[[0.0,\"#0d0887\"],[0.1111111111111111,\"#46039f\"],[0.2222222222222222,\"#7201a8\"],[0.3333333333333333,\"#9c179e\"],[0.4444444444444444,\"#bd3786\"],[0.5555555555555556,\"#d8576b\"],[0.6666666666666666,\"#ed7953\"],[0.7777777777777778,\"#fb9f3a\"],[0.8888888888888888,\"#fdca26\"],[1.0,\"#f0f921\"]]}],\"mesh3d\":[{\"type\":\"mesh3d\",\"colorbar\":{\"outlinewidth\":0,\"ticks\":\"\"}}],\"scatter\":[{\"fillpattern\":{\"fillmode\":\"overlay\",\"size\":10,\"solidity\":0.2},\"type\":\"scatter\"}],\"parcoords\":[{\"type\":\"parcoords\",\"line\":{\"colorbar\":{\"outlinewidth\":0,\"ticks\":\"\"}}}],\"scatterpolargl\":[{\"type\":\"scatterpolargl\",\"marker\":{\"colorbar\":{\"outlinewidth\":0,\"ticks\":\"\"}}}],\"bar\":[{\"error_x\":{\"color\":\"#2a3f5f\"},\"error_y\":{\"color\":\"#2a3f5f\"},\"marker\":{\"line\":{\"color\":\"#E5ECF6\",\"width\":0.5},\"pattern\":{\"fillmode\":\"overlay\",\"size\":10,\"solidity\":0.2}},\"type\":\"bar\"}],\"scattergeo\":[{\"type\":\"scattergeo\",\"marker\":{\"colorbar\":{\"outlinewidth\":0,\"ticks\":\"\"}}}],\"scatterpolar\":[{\"type\":\"scatterpolar\",\"marker\":{\"colorbar\":{\"outlinewidth\":0,\"ticks\":\"\"}}}],\"histogram\":[{\"marker\":{\"pattern\":{\"fillmode\":\"overlay\",\"size\":10,\"solidity\":0.2}},\"type\":\"histogram\"}],\"scattergl\":[{\"type\":\"scattergl\",\"marker\":{\"colorbar\":{\"outlinewidth\":0,\"ticks\":\"\"}}}],\"scatter3d\":[{\"type\":\"scatter3d\",\"line\":{\"colorbar\":{\"outlinewidth\":0,\"ticks\":\"\"}},\"marker\":{\"colorbar\":{\"outlinewidth\":0,\"ticks\":\"\"}}}],\"scattermapbox\":[{\"type\":\"scattermapbox\",\"marker\":{\"colorbar\":{\"outlinewidth\":0,\"ticks\":\"\"}}}],\"scatterternary\":[{\"type\":\"scatterternary\",\"marker\":{\"colorbar\":{\"outlinewidth\":0,\"ticks\":\"\"}}}],\"scattercarpet\":[{\"type\":\"scattercarpet\",\"marker\":{\"colorbar\":{\"outlinewidth\":0,\"ticks\":\"\"}}}],\"carpet\":[{\"aaxis\":{\"endlinecolor\":\"#2a3f5f\",\"gridcolor\":\"white\",\"linecolor\":\"white\",\"minorgridcolor\":\"white\",\"startlinecolor\":\"#2a3f5f\"},\"baxis\":{\"endlinecolor\":\"#2a3f5f\",\"gridcolor\":\"white\",\"linecolor\":\"white\",\"minorgridcolor\":\"white\",\"startlinecolor\":\"#2a3f5f\"},\"type\":\"carpet\"}],\"table\":[{\"cells\":{\"fill\":{\"color\":\"#EBF0F8\"},\"line\":{\"color\":\"white\"}},\"header\":{\"fill\":{\"color\":\"#C8D4E3\"},\"line\":{\"color\":\"white\"}},\"type\":\"table\"}],\"barpolar\":[{\"marker\":{\"line\":{\"color\":\"#E5ECF6\",\"width\":0.5},\"pattern\":{\"fillmode\":\"overlay\",\"size\":10,\"solidity\":0.2}},\"type\":\"barpolar\"}],\"pie\":[{\"automargin\":true,\"type\":\"pie\"}]},\"layout\":{\"autotypenumbers\":\"strict\",\"colorway\":[\"#636efa\",\"#EF553B\",\"#00cc96\",\"#ab63fa\",\"#FFA15A\",\"#19d3f3\",\"#FF6692\",\"#B6E880\",\"#FF97FF\",\"#FECB52\"],\"font\":{\"color\":\"#2a3f5f\"},\"hovermode\":\"closest\",\"hoverlabel\":{\"align\":\"left\"},\"paper_bgcolor\":\"white\",\"plot_bgcolor\":\"#E5ECF6\",\"polar\":{\"bgcolor\":\"#E5ECF6\",\"angularaxis\":{\"gridcolor\":\"white\",\"linecolor\":\"white\",\"ticks\":\"\"},\"radialaxis\":{\"gridcolor\":\"white\",\"linecolor\":\"white\",\"ticks\":\"\"}},\"ternary\":{\"bgcolor\":\"#E5ECF6\",\"aaxis\":{\"gridcolor\":\"white\",\"linecolor\":\"white\",\"ticks\":\"\"},\"baxis\":{\"gridcolor\":\"white\",\"linecolor\":\"white\",\"ticks\":\"\"},\"caxis\":{\"gridcolor\":\"white\",\"linecolor\":\"white\",\"ticks\":\"\"}},\"coloraxis\":{\"colorbar\":{\"outlinewidth\":0,\"ticks\":\"\"}},\"colorscale\":{\"sequential\":[[0.0,\"#0d0887\"],[0.1111111111111111,\"#46039f\"],[0.2222222222222222,\"#7201a8\"],[0.3333333333333333,\"#9c179e\"],[0.4444444444444444,\"#bd3786\"],[0.5555555555555556,\"#d8576b\"],[0.6666666666666666,\"#ed7953\"],[0.7777777777777778,\"#fb9f3a\"],[0.8888888888888888,\"#fdca26\"],[1.0,\"#f0f921\"]],\"sequentialminus\":[[0.0,\"#0d0887\"],[0.1111111111111111,\"#46039f\"],[0.2222222222222222,\"#7201a8\"],[0.3333333333333333,\"#9c179e\"],[0.4444444444444444,\"#bd3786\"],[0.5555555555555556,\"#d8576b\"],[0.6666666666666666,\"#ed7953\"],[0.7777777777777778,\"#fb9f3a\"],[0.8888888888888888,\"#fdca26\"],[1.0,\"#f0f921\"]],\"diverging\":[[0,\"#8e0152\"],[0.1,\"#c51b7d\"],[0.2,\"#de77ae\"],[0.3,\"#f1b6da\"],[0.4,\"#fde0ef\"],[0.5,\"#f7f7f7\"],[0.6,\"#e6f5d0\"],[0.7,\"#b8e186\"],[0.8,\"#7fbc41\"],[0.9,\"#4d9221\"],[1,\"#276419\"]]},\"xaxis\":{\"gridcolor\":\"white\",\"linecolor\":\"white\",\"ticks\":\"\",\"title\":{\"standoff\":15},\"zerolinecolor\":\"white\",\"automargin\":true,\"zerolinewidth\":2},\"yaxis\":{\"gridcolor\":\"white\",\"linecolor\":\"white\",\"ticks\":\"\",\"title\":{\"standoff\":15},\"zerolinecolor\":\"white\",\"automargin\":true,\"zerolinewidth\":2},\"scene\":{\"xaxis\":{\"backgroundcolor\":\"#E5ECF6\",\"gridcolor\":\"white\",\"linecolor\":\"white\",\"showbackground\":true,\"ticks\":\"\",\"zerolinecolor\":\"white\",\"gridwidth\":2},\"yaxis\":{\"backgroundcolor\":\"#E5ECF6\",\"gridcolor\":\"white\",\"linecolor\":\"white\",\"showbackground\":true,\"ticks\":\"\",\"zerolinecolor\":\"white\",\"gridwidth\":2},\"zaxis\":{\"backgroundcolor\":\"#E5ECF6\",\"gridcolor\":\"white\",\"linecolor\":\"white\",\"showbackground\":true,\"ticks\":\"\",\"zerolinecolor\":\"white\",\"gridwidth\":2}},\"shapedefaults\":{\"line\":{\"color\":\"#2a3f5f\"}},\"annotationdefaults\":{\"arrowcolor\":\"#2a3f5f\",\"arrowhead\":0,\"arrowwidth\":1},\"geo\":{\"bgcolor\":\"white\",\"landcolor\":\"#E5ECF6\",\"subunitcolor\":\"white\",\"showland\":true,\"showlakes\":true,\"lakecolor\":\"white\"},\"title\":{\"x\":0.05},\"mapbox\":{\"style\":\"light\"}}},\"xaxis\":{\"anchor\":\"y\",\"domain\":[0.0,1.0],\"title\":{\"text\":\"speaker\"}},\"yaxis\":{\"anchor\":\"x\",\"domain\":[0.0,1.0],\"title\":{\"text\":\"count\"}},\"coloraxis\":{\"colorbar\":{\"title\":{\"text\":\"season\"}},\"colorscale\":[[0.0,\"#0d0887\"],[0.1111111111111111,\"#46039f\"],[0.2222222222222222,\"#7201a8\"],[0.3333333333333333,\"#9c179e\"],[0.4444444444444444,\"#bd3786\"],[0.5555555555555556,\"#d8576b\"],[0.6666666666666666,\"#ed7953\"],[0.7777777777777778,\"#fb9f3a\"],[0.8888888888888888,\"#fdca26\"],[1.0,\"#f0f921\"]]},\"legend\":{\"tracegroupgap\":0},\"margin\":{\"t\":60},\"barmode\":\"relative\"},                        {\"responsive\": true}                    ).then(function(){\n",
              "                            \n",
              "var gd = document.getElementById('de82977c-fa46-45fe-8864-d7a54500bbd0');\n",
              "var x = new MutationObserver(function (mutations, observer) {{\n",
              "        var display = window.getComputedStyle(gd).display;\n",
              "        if (!display || display === 'none') {{\n",
              "            console.log([gd, 'removed!']);\n",
              "            Plotly.purge(gd);\n",
              "            observer.disconnect();\n",
              "        }}\n",
              "}});\n",
              "\n",
              "// Listen for the removal of the full notebook cells\n",
              "var notebookContainer = gd.closest('#notebook-container');\n",
              "if (notebookContainer) {{\n",
              "    x.observe(notebookContainer, {childList: true});\n",
              "}}\n",
              "\n",
              "// Listen for the clearing of the current output cell\n",
              "var outputEl = gd.closest('.output');\n",
              "if (outputEl) {{\n",
              "    x.observe(outputEl, {childList: true});\n",
              "}}\n",
              "\n",
              "                        })                };                            </script>        </div>\n",
              "</body>\n",
              "</html>"
            ]
          },
          "metadata": {}
        }
      ]
    },
    {
      "cell_type": "markdown",
      "source": [
        "1.2.3 Analyse multivarie"
      ],
      "metadata": {
        "id": "TZvt2xDdAQzC"
      }
    },
    {
      "cell_type": "code",
      "source": [
        "matrice = data[numeric_cols].corr()\n",
        "plt.figure(figsize=(25, 15))\n",
        "sns.heatmap(matrice, annot=True,cmap='YlGnBu')\n",
        "plt.title('Matrice de Correlation')\n",
        "plt.show()\n"
      ],
      "metadata": {
        "colab": {
          "base_uri": "https://localhost:8080/",
          "height": 987
        },
        "id": "LKZjreXsJmZt",
        "outputId": "4d4a8d8e-f26f-422b-bc1b-1a991e055698"
      },
      "execution_count": null,
      "outputs": [
        {
          "output_type": "display_data",
          "data": {
            "text/plain": [
              "<Figure size 2500x1500 with 2 Axes>"
            ],
            "image/png": "[encoded data removed]"
          },
          "metadata": {}
        }
      ]
    },
    {
      "cell_type": "code",
      "source": [
        "#Visualisation des valeurs aberrantes\n",
        "data.boxplot(numeric_cols)\n",
        "plt.ylabel(\"Valeurs\")\n",
        "plt.title(\"Visualisation des valeurs aberrantes\")\n",
        "plt.show()"
      ],
      "metadata": {
        "colab": {
          "base_uri": "https://localhost:8080/",
          "height": 452
        },
        "id": "ijUdJRjbP-Oc",
        "outputId": "5eb1e868-e59d-44df-a66e-2cb166c8851b"
      },
      "execution_count": null,
      "outputs": [
        {
          "output_type": "display_data",
          "data": {
            "text/plain": [
              "<Figure size 640x480 with 1 Axes>"
            ],
            "image/png": "[encoded data removed]"
          },
          "metadata": {}
        }
      ]
    },
    {
      "cell_type": "markdown",
      "source": [
        "**2. Pre-traitement**"
      ],
      "metadata": {
        "id": "lo6fd47O3KnY"
      }
    },
    {
      "cell_type": "markdown",
      "source": [
        "2.1 Nettoyage des donnees"
      ],
      "metadata": {
        "id": "0d-WCUaPRd9t"
      }
    },
    {
      "cell_type": "code",
      "source": [
        "#Filling in missing values\n",
        "data.fillna(0, inplace=True)"
      ],
      "metadata": {
        "id": "u857Y1EdAuMG"
      },
      "execution_count": null,
      "outputs": []
    },
    {
      "cell_type": "code",
      "source": [
        "#Functions\n",
        "def lowercase(text):\n",
        "  return text.lower()\n",
        "\n",
        "def remove_punctuation(text):\n",
        "    return text.translate(str.maketrans('', '', string.punctuation))\n",
        "\n",
        "def remove_stopwords(tokens):\n",
        "    words = set(stopwords.words('english'))\n",
        "    filtered_tokens = [word for word in tokens if word not in words]\n",
        "    return filtered_tokens\n",
        "\n",
        "def tokenization(text):\n",
        "    return word_tokenize(text)\n",
        "\n",
        "def correct_spelling(text):\n",
        "  textblob = TextBlob(text)\n",
        "  correction = str(textblob.correct())\n",
        "  return correction\n",
        "\n",
        "def lemmatize(tokens):\n",
        "    lemmatizer = WordNetLemmatizer()\n",
        "    lemmatized_tokens = [lemmatizer.lemmatize(token) for token in tokens]\n",
        "    return ' '.join(lemmatized_tokens)\n",
        "\n",
        "def remove_numerical(text):\n",
        "    return ''.join([char for char in text if not char.isdigit()])\n"
      ],
      "metadata": {
        "id": "R56iDtAuDY0U"
      },
      "execution_count": null,
      "outputs": []
    },
    {
      "cell_type": "code",
      "source": [
        "#Fonction principale\n",
        "def pretraitement(text):\n",
        "    text = lowercase(text)\n",
        "    text = remove_punctuation(text)\n",
        "    tokens = tokenization(text)\n",
        "    tokens = remove_stopwords(tokens)\n",
        "    tokens = lemmatize(tokens)\n",
        "    return tokens\n",
        "text = data['text'][0]\n",
        "speaker = data['speaker'][1]\n",
        "pretraitement(text)\n"
      ],
      "metadata": {
        "colab": {
          "base_uri": "https://localhost:8080/",
          "height": 36
        },
        "id": "SXNREZ_2Nd-J",
        "outputId": "fee9dcfa-05c1-49fc-9cf0-f7a38117cf31"
      },
      "execution_count": null,
      "outputs": [
        {
          "output_type": "execute_result",
          "data": {
            "text/plain": [
              "'there nothing tell he guy work'"
            ],
            "application/vnd.google.colaboratory.intrinsic+json": {
              "type": "string"
            }
          },
          "metadata": {},
          "execution_count": 130
        }
      ]
    },
    {
      "cell_type": "code",
      "source": [
        "#Wordcloud"
      ],
      "metadata": {
        "id": "_vpKI96kQPA0"
      },
      "execution_count": null,
      "outputs": []
    },
    {
      "cell_type": "markdown",
      "source": [
        "Text Vectorization"
      ],
      "metadata": {
        "id": "KsRrSxJQQxVM"
      }
    },
    {
      "cell_type": "code",
      "source": [
        "#One hot encoding"
      ],
      "metadata": {
        "id": "AA8VaqFiQw2N"
      },
      "execution_count": null,
      "outputs": []
    },
    {
      "cell_type": "markdown",
      "source": [
        "2.2 Reduction des dimenssions"
      ],
      "metadata": {
        "id": "peJBPQIHRvIq"
      }
    },
    {
      "cell_type": "markdown",
      "source": [
        "2.3 Transformation des donnees"
      ],
      "metadata": {
        "id": "rimcb5pURyNj"
      }
    },
    {
      "cell_type": "markdown",
      "source": [
        "2.4 Division des donnees train set/test set"
      ],
      "metadata": {
        "id": "hwYQF0V0R1KC"
      }
    }
  ]
}